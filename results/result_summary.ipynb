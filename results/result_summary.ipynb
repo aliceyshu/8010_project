{
 "cells": [
  {
   "cell_type": "markdown",
   "metadata": {},
   "source": [
    "# summary results for 8 problems"
   ]
  },
  {
   "cell_type": "code",
   "execution_count": 1,
   "metadata": {},
   "outputs": [],
   "source": [
    "import pandas as pd\n",
    "import numpy as np\n",
    "#\n",
    "# from math import sqrt\n",
    "import seaborn as sns\n",
    "\n",
    "import warnings\n",
    "warnings.filterwarnings('ignore')"
   ]
  },
  {
   "cell_type": "markdown",
   "metadata": {},
   "source": [
    "## Crying Baby\n",
    "\n",
    "runtime is the sum of 100 simulations, each simulation contains 1000 games"
   ]
  },
  {
   "cell_type": "code",
   "execution_count": 2,
   "metadata": {},
   "outputs": [
    {
     "data": {
      "text/html": [
       "<style  type=\"text/css\" >\n",
       "#T_7391a_row0_col0,#T_7391a_row1_col0,#T_7391a_row2_col0,#T_7391a_row2_col1,#T_7391a_row2_col2,#T_7391a_row3_col0,#T_7391a_row3_col3,#T_7391a_row3_col5,#T_7391a_row3_col6,#T_7391a_row3_col7{\n",
       "            background-color:  #f3f0ee;\n",
       "            color:  #000000;\n",
       "        }#T_7391a_row0_col1{\n",
       "            background-color:  #f8cd80;\n",
       "            color:  #000000;\n",
       "        }#T_7391a_row0_col2{\n",
       "            background-color:  #f9cd7f;\n",
       "            color:  #000000;\n",
       "        }#T_7391a_row0_col3{\n",
       "            background-color:  #fbbc4a;\n",
       "            color:  #000000;\n",
       "        }#T_7391a_row0_col4{\n",
       "            background-color:  #f3f0ed;\n",
       "            color:  #000000;\n",
       "        }#T_7391a_row0_col5{\n",
       "            background-color:  #fcb83c;\n",
       "            color:  #000000;\n",
       "        }#T_7391a_row0_col6{\n",
       "            background-color:  #f8ce81;\n",
       "            color:  #000000;\n",
       "        }#T_7391a_row0_col7{\n",
       "            background-color:  #fbc055;\n",
       "            color:  #000000;\n",
       "        }#T_7391a_row1_col1,#T_7391a_row1_col2{\n",
       "            background-color:  #fac669;\n",
       "            color:  #000000;\n",
       "        }#T_7391a_row1_col3{\n",
       "            background-color:  #fac566;\n",
       "            color:  #000000;\n",
       "        }#T_7391a_row1_col4,#T_7391a_row2_col3,#T_7391a_row2_col5,#T_7391a_row2_col6,#T_7391a_row2_col7{\n",
       "            background-color:  #ffa500;\n",
       "            color:  #000000;\n",
       "        }#T_7391a_row1_col5{\n",
       "            background-color:  #f8d391;\n",
       "            color:  #000000;\n",
       "        }#T_7391a_row1_col6,#T_7391a_row1_col7{\n",
       "            background-color:  #f8ce82;\n",
       "            color:  #000000;\n",
       "        }#T_7391a_row2_col4{\n",
       "            background-color:  #f3f0ee;\n",
       "            color:  #000000;\n",
       "            font-weight: bold;\n",
       "        }#T_7391a_row3_col1,#T_7391a_row3_col2{\n",
       "            background-color:  #ffa500;\n",
       "            color:  #000000;\n",
       "            font-weight: bold;\n",
       "        }#T_7391a_row3_col4{\n",
       "            background-color:  #f3ede4;\n",
       "            color:  #000000;\n",
       "        }</style><table id=\"T_7391a_\" ><thead>    <tr>        <th class=\"blank level0\" ></th>        <th class=\"col_heading level0 col0\" >n_games</th>        <th class=\"col_heading level0 col1\" >sum_reward</th>        <th class=\"col_heading level0 col2\" >sum_discount_reward</th>        <th class=\"col_heading level0 col3\" >avg_steps_per_game</th>        <th class=\"col_heading level0 col4\" >runtime</th>        <th class=\"col_heading level0 col5\" >n_feed</th>        <th class=\"col_heading level0 col6\" >n_hungry</th>        <th class=\"col_heading level0 col7\" >n_crying</th>    </tr>    <tr>        <th class=\"index_name level0\" >package</th>        <th class=\"blank\" ></th>        <th class=\"blank\" ></th>        <th class=\"blank\" ></th>        <th class=\"blank\" ></th>        <th class=\"blank\" ></th>        <th class=\"blank\" ></th>        <th class=\"blank\" ></th>        <th class=\"blank\" ></th>    </tr></thead><tbody>\n",
       "                <tr>\n",
       "                        <th id=\"T_7391a_level0_row0\" class=\"row_heading level0 row0\" >FIB</th>\n",
       "                        <td id=\"T_7391a_row0_col0\" class=\"data row0 col0\" >100000.0000</td>\n",
       "                        <td id=\"T_7391a_row0_col1\" class=\"data row0 col1\" >-2442345.0000</td>\n",
       "                        <td id=\"T_7391a_row0_col2\" class=\"data row0 col2\" >-2199683.0000</td>\n",
       "                        <td id=\"T_7391a_row0_col3\" class=\"data row0 col3\" >1350.2170</td>\n",
       "                        <td id=\"T_7391a_row0_col4\" class=\"data row0 col4\" >1.8114</td>\n",
       "                        <td id=\"T_7391a_row0_col5\" class=\"data row0 col5\" >211137.0000</td>\n",
       "                        <td id=\"T_7391a_row0_col6\" class=\"data row0 col6\" >138666.0000</td>\n",
       "                        <td id=\"T_7391a_row0_col7\" class=\"data row0 col7\" >232097.0000</td>\n",
       "            </tr>\n",
       "            <tr>\n",
       "                        <th id=\"T_7391a_level0_row1\" class=\"row_heading level0 row1\" >PBVI</th>\n",
       "                        <td id=\"T_7391a_row1_col0\" class=\"data row1 col0\" >100000.0000</td>\n",
       "                        <td id=\"T_7391a_row1_col1\" class=\"data row1 col1\" >-2440515.0000</td>\n",
       "                        <td id=\"T_7391a_row1_col2\" class=\"data row1 col2\" >-2198110.0000</td>\n",
       "                        <td id=\"T_7391a_row1_col3\" class=\"data row1 col3\" >1348.7810</td>\n",
       "                        <td id=\"T_7391a_row1_col4\" class=\"data row1 col4\" >15.2548</td>\n",
       "                        <td id=\"T_7391a_row1_col5\" class=\"data row1 col5\" >210787.0000</td>\n",
       "                        <td id=\"T_7391a_row1_col6\" class=\"data row1 col6\" >138658.0000</td>\n",
       "                        <td id=\"T_7391a_row1_col7\" class=\"data row1 col7\" >231928.0000</td>\n",
       "            </tr>\n",
       "            <tr>\n",
       "                        <th id=\"T_7391a_level0_row2\" class=\"row_heading level0 row2\" >QMDP</th>\n",
       "                        <td id=\"T_7391a_row2_col0\" class=\"data row2 col0\" >100000.0000</td>\n",
       "                        <td id=\"T_7391a_row2_col1\" class=\"data row2 col1\" >-2450970.0000</td>\n",
       "                        <td id=\"T_7391a_row2_col2\" class=\"data row2 col2\" >-2207513.0000</td>\n",
       "                        <td id=\"T_7391a_row2_col3\" class=\"data row2 col3\" >1353.9020</td>\n",
       "                        <td id=\"T_7391a_row2_col4\" class=\"data row2 col4\" >1.6604</td>\n",
       "                        <td id=\"T_7391a_row2_col5\" class=\"data row2 col5\" >211386.0000</td>\n",
       "                        <td id=\"T_7391a_row2_col6\" class=\"data row2 col6\" >139404.0000</td>\n",
       "                        <td id=\"T_7391a_row2_col7\" class=\"data row2 col7\" >232419.0000</td>\n",
       "            </tr>\n",
       "            <tr>\n",
       "                        <th id=\"T_7391a_level0_row3\" class=\"row_heading level0 row3\" >SARSOP</th>\n",
       "                        <td id=\"T_7391a_row3_col0\" class=\"data row3 col0\" >100000.0000</td>\n",
       "                        <td id=\"T_7391a_row3_col1\" class=\"data row3 col1\" >-2432375.0000</td>\n",
       "                        <td id=\"T_7391a_row3_col2\" class=\"data row3 col2\" >-2190695.0000</td>\n",
       "                        <td id=\"T_7391a_row3_col3\" class=\"data row3 col3\" >1341.9690</td>\n",
       "                        <td id=\"T_7391a_row3_col4\" class=\"data row3 col4\" >2.2698</td>\n",
       "                        <td id=\"T_7391a_row3_col5\" class=\"data row3 col5\" >210401.0000</td>\n",
       "                        <td id=\"T_7391a_row3_col6\" class=\"data row3 col6\" >138037.0000</td>\n",
       "                        <td id=\"T_7391a_row3_col7\" class=\"data row3 col7\" >231516.0000</td>\n",
       "            </tr>\n",
       "    </tbody></table>"
      ],
      "text/plain": [
       "<pandas.io.formats.style.Styler at 0x21727368c48>"
      ]
     },
     "execution_count": 2,
     "metadata": {},
     "output_type": "execute_result"
    }
   ],
   "source": [
    "df = pd.read_table(\"cryingBabyProblem.csv\",sep=',')\n",
    "\n",
    "cm = sns.light_palette(\"orange\", as_cmap=True)\n",
    "df2 = df.groupby([\"package\"]).sum()\n",
    "df2 = df2[[i for i in df2.columns if i not in ['id']]]\n",
    "df2.style.format('{:.4f}').background_gradient(cmap=cm).apply(\n",
    "    lambda col: ['font-weight:bold' \n",
    "                 if ((x==col.max() and col.name in [\"sum_reward\",\"sum_discount_reward\"\n",
    "                     ]) \n",
    "                     or (x==col.min() and col.name in [\"avg_steps\",\"runtime\"]))\n",
    "                 else '' \n",
    "                 for x in col])"
   ]
  },
  {
   "cell_type": "code",
   "execution_count": 3,
   "metadata": {},
   "outputs": [
    {
     "name": "stdout",
     "output_type": "stream",
     "text": [
      "package\n",
      "FIB        1.811442\n",
      "PBVI      15.254777\n",
      "QMDP       1.660357\n",
      "SARSOP     2.269762\n",
      "Name: runtime, dtype: float64\n",
      "package\n",
      "FIB      -2199683\n",
      "PBVI     -2198110\n",
      "QMDP     -2207513\n",
      "SARSOP   -2190695\n",
      "Name: sum_discount_reward, dtype: int64\n"
     ]
    }
   ],
   "source": [
    "baby_runtime = df2[\"runtime\"]\n",
    "print(baby_runtime)\n",
    "\n",
    "baby_sum_discounted = df2[\"sum_discount_reward\"]\n",
    "print(baby_sum_discounted)"
   ]
  },
  {
   "cell_type": "markdown",
   "metadata": {},
   "source": [
    "## Tiger\n",
    "\n",
    "runtime is the sum of 100 simulations, each simulation contains 1000 games"
   ]
  },
  {
   "cell_type": "code",
   "execution_count": 4,
   "metadata": {},
   "outputs": [
    {
     "data": {
      "text/html": [
       "<style  type=\"text/css\" >\n",
       "#T_6d7e9_row0_col0,#T_6d7e9_row0_col2,#T_6d7e9_row0_col6,#T_6d7e9_row1_col0,#T_6d7e9_row1_col3,#T_6d7e9_row1_col4,#T_6d7e9_row1_col8,#T_6d7e9_row2_col0,#T_6d7e9_row2_col1,#T_6d7e9_row2_col7,#T_6d7e9_row3_col0,#T_6d7e9_row3_col5,#T_6d7e9_row3_col10{\n",
       "            background-color:  #f3f0ee;\n",
       "            color:  #000000;\n",
       "        }#T_6d7e9_row0_col1,#T_6d7e9_row0_col7,#T_6d7e9_row0_col11,#T_6d7e9_row1_col9,#T_6d7e9_row2_col2,#T_6d7e9_row2_col5,#T_6d7e9_row2_col6,#T_6d7e9_row2_col10{\n",
       "            background-color:  #ffa500;\n",
       "            color:  #000000;\n",
       "        }#T_6d7e9_row0_col3{\n",
       "            background-color:  #f6deb5;\n",
       "            color:  #000000;\n",
       "        }#T_6d7e9_row0_col4{\n",
       "            background-color:  #f6e0ba;\n",
       "            color:  #000000;\n",
       "        }#T_6d7e9_row0_col5,#T_6d7e9_row0_col10{\n",
       "            background-color:  #fbc055;\n",
       "            color:  #000000;\n",
       "        }#T_6d7e9_row0_col8{\n",
       "            background-color:  #f6deb6;\n",
       "            color:  #000000;\n",
       "        }#T_6d7e9_row0_col9{\n",
       "            background-color:  #fcb738;\n",
       "            color:  #000000;\n",
       "        }#T_6d7e9_row1_col1{\n",
       "            background-color:  #f7d598;\n",
       "            color:  #000000;\n",
       "        }#T_6d7e9_row1_col2{\n",
       "            background-color:  #fbc056;\n",
       "            color:  #000000;\n",
       "        }#T_6d7e9_row1_col5,#T_6d7e9_row1_col10{\n",
       "            background-color:  #fcba42;\n",
       "            color:  #000000;\n",
       "        }#T_6d7e9_row1_col6{\n",
       "            background-color:  #feae1b;\n",
       "            color:  #000000;\n",
       "        }#T_6d7e9_row1_col7{\n",
       "            background-color:  #f4e8d3;\n",
       "            color:  #000000;\n",
       "        }#T_6d7e9_row1_col11{\n",
       "            background-color:  #f3ede4;\n",
       "            color:  #000000;\n",
       "        }#T_6d7e9_row2_col3,#T_6d7e9_row2_col4,#T_6d7e9_row2_col8{\n",
       "            background-color:  #ffa500;\n",
       "            color:  #000000;\n",
       "            font-weight: bold;\n",
       "        }#T_6d7e9_row2_col9,#T_6d7e9_row2_col11{\n",
       "            background-color:  #f3f0ee;\n",
       "            color:  #000000;\n",
       "            font-weight: bold;\n",
       "        }#T_6d7e9_row3_col1{\n",
       "            background-color:  #fbbd4c;\n",
       "            color:  #000000;\n",
       "        }#T_6d7e9_row3_col2{\n",
       "            background-color:  #f7d8a3;\n",
       "            color:  #000000;\n",
       "        }#T_6d7e9_row3_col3{\n",
       "            background-color:  #f7d495;\n",
       "            color:  #000000;\n",
       "        }#T_6d7e9_row3_col4,#T_6d7e9_row3_col8{\n",
       "            background-color:  #f7d69b;\n",
       "            color:  #000000;\n",
       "        }#T_6d7e9_row3_col6{\n",
       "            background-color:  #f9cb7a;\n",
       "            color:  #000000;\n",
       "        }#T_6d7e9_row3_col7{\n",
       "            background-color:  #f9ca75;\n",
       "            color:  #000000;\n",
       "        }#T_6d7e9_row3_col9{\n",
       "            background-color:  #fbbf53;\n",
       "            color:  #000000;\n",
       "        }#T_6d7e9_row3_col11{\n",
       "            background-color:  #f6dcaf;\n",
       "            color:  #000000;\n",
       "        }</style><table id=\"T_6d7e9_\" ><thead>    <tr>        <th class=\"blank level0\" ></th>        <th class=\"col_heading level0 col0\" >n_games</th>        <th class=\"col_heading level0 col1\" >b1_avg</th>        <th class=\"col_heading level0 col2\" >b2_avg</th>        <th class=\"col_heading level0 col3\" >sum_reward</th>        <th class=\"col_heading level0 col4\" >sum_discount_reward</th>        <th class=\"col_heading level0 col5\" >num_listen</th>        <th class=\"col_heading level0 col6\" >num_left</th>        <th class=\"col_heading level0 col7\" >num_right</th>        <th class=\"col_heading level0 col8\" >num_correct_door</th>        <th class=\"col_heading level0 col9\" >num_wrong_door</th>        <th class=\"col_heading level0 col10\" >avg_steps_per_game</th>        <th class=\"col_heading level0 col11\" >runtime</th>    </tr>    <tr>        <th class=\"index_name level0\" >package</th>        <th class=\"blank\" ></th>        <th class=\"blank\" ></th>        <th class=\"blank\" ></th>        <th class=\"blank\" ></th>        <th class=\"blank\" ></th>        <th class=\"blank\" ></th>        <th class=\"blank\" ></th>        <th class=\"blank\" ></th>        <th class=\"blank\" ></th>        <th class=\"blank\" ></th>        <th class=\"blank\" ></th>        <th class=\"blank\" ></th>    </tr></thead><tbody>\n",
       "                <tr>\n",
       "                        <th id=\"T_6d7e9_level0_row0\" class=\"row_heading level0 row0\" >FIB</th>\n",
       "                        <td id=\"T_6d7e9_row0_col0\" class=\"data row0 col0\" >100000.0000</td>\n",
       "                        <td id=\"T_6d7e9_row0_col1\" class=\"data row0 col1\" >50.1600</td>\n",
       "                        <td id=\"T_6d7e9_row0_col2\" class=\"data row0 col2\" >49.8400</td>\n",
       "                        <td id=\"T_6d7e9_row0_col3\" class=\"data row0 col3\" >394246.0000</td>\n",
       "                        <td id=\"T_6d7e9_row0_col4\" class=\"data row0 col4\" >376463.0000</td>\n",
       "                        <td id=\"T_6d7e9_row0_col5\" class=\"data row0 col5\" >268714.0000</td>\n",
       "                        <td id=\"T_6d7e9_row0_col6\" class=\"data row0 col6\" >49719.0000</td>\n",
       "                        <td id=\"T_6d7e9_row0_col7\" class=\"data row0 col7\" >50281.0000</td>\n",
       "                        <td id=\"T_6d7e9_row0_col8\" class=\"data row0 col8\" >96936.0000</td>\n",
       "                        <td id=\"T_6d7e9_row0_col9\" class=\"data row0 col9\" >3064.0000</td>\n",
       "                        <td id=\"T_6d7e9_row0_col10\" class=\"data row0 col10\" >368.7140</td>\n",
       "                        <td id=\"T_6d7e9_row0_col11\" class=\"data row0 col11\" >3.4591</td>\n",
       "            </tr>\n",
       "            <tr>\n",
       "                        <th id=\"T_6d7e9_level0_row1\" class=\"row_heading level0 row1\" >PBVI</th>\n",
       "                        <td id=\"T_6d7e9_row1_col0\" class=\"data row1 col0\" >100000.0000</td>\n",
       "                        <td id=\"T_6d7e9_row1_col1\" class=\"data row1 col1\" >50.0000</td>\n",
       "                        <td id=\"T_6d7e9_row1_col2\" class=\"data row1 col2\" >50.0000</td>\n",
       "                        <td id=\"T_6d7e9_row1_col3\" class=\"data row1 col3\" >390350.0000</td>\n",
       "                        <td id=\"T_6d7e9_row1_col4\" class=\"data row1 col4\" >373155.0000</td>\n",
       "                        <td id=\"T_6d7e9_row1_col5\" class=\"data row1 col5\" >268760.0000</td>\n",
       "                        <td id=\"T_6d7e9_row1_col6\" class=\"data row1 col6\" >50031.0000</td>\n",
       "                        <td id=\"T_6d7e9_row1_col7\" class=\"data row1 col7\" >49969.0000</td>\n",
       "                        <td id=\"T_6d7e9_row1_col8\" class=\"data row1 col8\" >96901.0000</td>\n",
       "                        <td id=\"T_6d7e9_row1_col9\" class=\"data row1 col9\" >3099.0000</td>\n",
       "                        <td id=\"T_6d7e9_row1_col10\" class=\"data row1 col10\" >368.7600</td>\n",
       "                        <td id=\"T_6d7e9_row1_col11\" class=\"data row1 col11\" >1.9705</td>\n",
       "            </tr>\n",
       "            <tr>\n",
       "                        <th id=\"T_6d7e9_level0_row2\" class=\"row_heading level0 row2\" >QMDP</th>\n",
       "                        <td id=\"T_6d7e9_row2_col0\" class=\"data row2 col0\" >100000.0000</td>\n",
       "                        <td id=\"T_6d7e9_row2_col1\" class=\"data row2 col1\" >49.9100</td>\n",
       "                        <td id=\"T_6d7e9_row2_col2\" class=\"data row2 col2\" >50.0900</td>\n",
       "                        <td id=\"T_6d7e9_row2_col3\" class=\"data row2 col3\" >406574.0000</td>\n",
       "                        <td id=\"T_6d7e9_row2_col4\" class=\"data row2 col4\" >388158.0000</td>\n",
       "                        <td id=\"T_6d7e9_row2_col5\" class=\"data row2 col5\" >268926.0000</td>\n",
       "                        <td id=\"T_6d7e9_row2_col6\" class=\"data row2 col6\" >50071.0000</td>\n",
       "                        <td id=\"T_6d7e9_row2_col7\" class=\"data row2 col7\" >49929.0000</td>\n",
       "                        <td id=\"T_6d7e9_row2_col8\" class=\"data row2 col8\" >97050.0000</td>\n",
       "                        <td id=\"T_6d7e9_row2_col9\" class=\"data row2 col9\" >2950.0000</td>\n",
       "                        <td id=\"T_6d7e9_row2_col10\" class=\"data row2 col10\" >368.9260</td>\n",
       "                        <td id=\"T_6d7e9_row2_col11\" class=\"data row2 col11\" >1.9000</td>\n",
       "            </tr>\n",
       "            <tr>\n",
       "                        <th id=\"T_6d7e9_level0_row3\" class=\"row_heading level0 row3\" >SARSOP</th>\n",
       "                        <td id=\"T_6d7e9_row3_col0\" class=\"data row3 col0\" >100000.0000</td>\n",
       "                        <td id=\"T_6d7e9_row3_col1\" class=\"data row3 col1\" >50.0800</td>\n",
       "                        <td id=\"T_6d7e9_row3_col2\" class=\"data row3 col2\" >49.9200</td>\n",
       "                        <td id=\"T_6d7e9_row3_col3\" class=\"data row3 col3\" >396496.0000</td>\n",
       "                        <td id=\"T_6d7e9_row3_col4\" class=\"data row3 col4\" >378409.0000</td>\n",
       "                        <td id=\"T_6d7e9_row3_col5\" class=\"data row3 col5\" >268334.0000</td>\n",
       "                        <td id=\"T_6d7e9_row3_col6\" class=\"data row3 col6\" >49892.0000</td>\n",
       "                        <td id=\"T_6d7e9_row3_col7\" class=\"data row3 col7\" >50108.0000</td>\n",
       "                        <td id=\"T_6d7e9_row3_col8\" class=\"data row3 col8\" >96953.0000</td>\n",
       "                        <td id=\"T_6d7e9_row3_col9\" class=\"data row3 col9\" >3047.0000</td>\n",
       "                        <td id=\"T_6d7e9_row3_col10\" class=\"data row3 col10\" >368.3340</td>\n",
       "                        <td id=\"T_6d7e9_row3_col11\" class=\"data row3 col11\" >2.3171</td>\n",
       "            </tr>\n",
       "    </tbody></table>"
      ],
      "text/plain": [
       "<pandas.io.formats.style.Styler at 0x2172e505508>"
      ]
     },
     "execution_count": 4,
     "metadata": {},
     "output_type": "execute_result"
    }
   ],
   "source": [
    "df = pd.read_table(\"tigerProblem.csv\",sep=',')\n",
    "\n",
    "cm = sns.light_palette(\"orange\", as_cmap=True)\n",
    "df2 = df.groupby([\"package\"]).sum()\n",
    "df2 = df2[[i for i in df2.columns if i not in ['id']]]\n",
    "df2.style.format('{:.4f}').background_gradient(cmap=cm).apply(\n",
    "    lambda col: ['font-weight:bold' \n",
    "                 if ((x==col.max() and col.name in [\n",
    "                     \"num_correct_door\",\"sum_reward\",\"sum_discount_reward\"\n",
    "                     ]) \n",
    "                     or (x==col.min() and col.name in [\"num_wrong_door\",\"avg_steps\",\"runtime\"]))\n",
    "                 else '' \n",
    "                 for x in col])"
   ]
  },
  {
   "cell_type": "code",
   "execution_count": 5,
   "metadata": {},
   "outputs": [
    {
     "name": "stdout",
     "output_type": "stream",
     "text": [
      "package\n",
      "FIB       3.459105\n",
      "PBVI      1.970471\n",
      "QMDP      1.899980\n",
      "SARSOP    2.317067\n",
      "Name: runtime, dtype: float64\n",
      "package\n",
      "FIB       376463\n",
      "PBVI      373155\n",
      "QMDP      388158\n",
      "SARSOP    378409\n",
      "Name: sum_discount_reward, dtype: int64\n"
     ]
    }
   ],
   "source": [
    "tiger_runtime = df2[\"runtime\"]\n",
    "print(tiger_runtime)\n",
    "\n",
    "tiger_sum_discounted = df2[\"sum_discount_reward\"]\n",
    "print(tiger_sum_discounted)"
   ]
  },
  {
   "cell_type": "markdown",
   "metadata": {},
   "source": [
    "## Paint\n",
    "runtime is the sum of 100 simulations, each simulation contains 1000 games"
   ]
  },
  {
   "cell_type": "code",
   "execution_count": null,
   "metadata": {},
   "outputs": [],
   "source": []
  },
  {
   "cell_type": "code",
   "execution_count": null,
   "metadata": {},
   "outputs": [],
   "source": []
  },
  {
   "cell_type": "markdown",
   "metadata": {},
   "source": [
    "## Rock Sample\n",
    "\n",
    "runtime is the sum of 100 simulations, each simulation contains 1000 games"
   ]
  },
  {
   "cell_type": "code",
   "execution_count": null,
   "metadata": {},
   "outputs": [],
   "source": []
  },
  {
   "cell_type": "code",
   "execution_count": null,
   "metadata": {},
   "outputs": [],
   "source": []
  },
  {
   "cell_type": "markdown",
   "metadata": {},
   "source": [
    "## Query"
   ]
  },
  {
   "cell_type": "code",
   "execution_count": null,
   "metadata": {},
   "outputs": [],
   "source": []
  },
  {
   "cell_type": "code",
   "execution_count": null,
   "metadata": {},
   "outputs": [],
   "source": []
  },
  {
   "cell_type": "markdown",
   "metadata": {},
   "source": [
    "## Mini hallway\n"
   ]
  },
  {
   "cell_type": "code",
   "execution_count": null,
   "metadata": {},
   "outputs": [],
   "source": []
  },
  {
   "cell_type": "code",
   "execution_count": null,
   "metadata": {},
   "outputs": [],
   "source": []
  },
  {
   "cell_type": "markdown",
   "metadata": {},
   "source": [
    "## Simple grid world (3 $\\times$ 3)\n"
   ]
  },
  {
   "cell_type": "code",
   "execution_count": null,
   "metadata": {},
   "outputs": [],
   "source": []
  },
  {
   "cell_type": "code",
   "execution_count": null,
   "metadata": {},
   "outputs": [],
   "source": []
  },
  {
   "cell_type": "markdown",
   "metadata": {},
   "source": [
    "## T-Maze problem (arm length =3)"
   ]
  },
  {
   "cell_type": "code",
   "execution_count": null,
   "metadata": {},
   "outputs": [],
   "source": []
  },
  {
   "cell_type": "code",
   "execution_count": null,
   "metadata": {},
   "outputs": [],
   "source": []
  },
  {
   "cell_type": "markdown",
   "metadata": {},
   "source": [
    "# Summary"
   ]
  },
  {
   "cell_type": "markdown",
   "metadata": {},
   "source": [
    "## Runtime"
   ]
  },
  {
   "cell_type": "code",
   "execution_count": 11,
   "metadata": {},
   "outputs": [
    {
     "data": {
      "text/html": [
       "<style  type=\"text/css\" >\n",
       "#T_2b3c9_row0_col0,#T_2b3c9_row1_col1{\n",
       "            background-color:  #ffa500;\n",
       "            color:  #000000;\n",
       "        }#T_2b3c9_row0_col1{\n",
       "            background-color:  #f3f0ed;\n",
       "            color:  #000000;\n",
       "        }#T_2b3c9_row1_col0,#T_2b3c9_row3_col1{\n",
       "            background-color:  #f3ede4;\n",
       "            color:  #000000;\n",
       "        }#T_2b3c9_row2_col0,#T_2b3c9_row2_col1{\n",
       "            background-color:  #f3f0ee;\n",
       "            color:  #000000;\n",
       "            font-weight: bold;\n",
       "        }#T_2b3c9_row3_col0{\n",
       "            background-color:  #f6dcaf;\n",
       "            color:  #000000;\n",
       "        }</style><table id=\"T_2b3c9_\" ><thead>    <tr>        <th class=\"blank level0\" ></th>        <th class=\"col_heading level0 col0\" >Tiger</th>        <th class=\"col_heading level0 col1\" >Crying Baby</th>    </tr>    <tr>        <th class=\"index_name level0\" >package</th>        <th class=\"blank\" ></th>        <th class=\"blank\" ></th>    </tr></thead><tbody>\n",
       "                <tr>\n",
       "                        <th id=\"T_2b3c9_level0_row0\" class=\"row_heading level0 row0\" >FIB</th>\n",
       "                        <td id=\"T_2b3c9_row0_col0\" class=\"data row0 col0\" >3.4591</td>\n",
       "                        <td id=\"T_2b3c9_row0_col1\" class=\"data row0 col1\" >1.8114</td>\n",
       "            </tr>\n",
       "            <tr>\n",
       "                        <th id=\"T_2b3c9_level0_row1\" class=\"row_heading level0 row1\" >PBVI</th>\n",
       "                        <td id=\"T_2b3c9_row1_col0\" class=\"data row1 col0\" >1.9705</td>\n",
       "                        <td id=\"T_2b3c9_row1_col1\" class=\"data row1 col1\" >15.2548</td>\n",
       "            </tr>\n",
       "            <tr>\n",
       "                        <th id=\"T_2b3c9_level0_row2\" class=\"row_heading level0 row2\" >QMDP</th>\n",
       "                        <td id=\"T_2b3c9_row2_col0\" class=\"data row2 col0\" >1.9000</td>\n",
       "                        <td id=\"T_2b3c9_row2_col1\" class=\"data row2 col1\" >1.6604</td>\n",
       "            </tr>\n",
       "            <tr>\n",
       "                        <th id=\"T_2b3c9_level0_row3\" class=\"row_heading level0 row3\" >SARSOP</th>\n",
       "                        <td id=\"T_2b3c9_row3_col0\" class=\"data row3 col0\" >2.3171</td>\n",
       "                        <td id=\"T_2b3c9_row3_col1\" class=\"data row3 col1\" >2.2698</td>\n",
       "            </tr>\n",
       "    </tbody></table>"
      ],
      "text/plain": [
       "<pandas.io.formats.style.Styler at 0x2172e939148>"
      ]
     },
     "execution_count": 11,
     "metadata": {},
     "output_type": "execute_result"
    }
   ],
   "source": [
    "concatenated = pd.concat([tiger_runtime, baby_runtime], axis=1)\n",
    "concatenated.columns.values[0] = 'Tiger'\n",
    "concatenated.columns.values[1] = 'Crying Baby'\n",
    "\n",
    "concatenated.style.format('{:.4f}').background_gradient(cmap=cm).apply(\n",
    "    lambda col: ['font-weight:bold' if x==col.min() else ''\n",
    "                 for x in col])"
   ]
  },
  {
   "cell_type": "markdown",
   "metadata": {},
   "source": [
    "## Sum of Discounted Reward"
   ]
  },
  {
   "cell_type": "code",
   "execution_count": 12,
   "metadata": {},
   "outputs": [
    {
     "data": {
      "text/html": [
       "<style  type=\"text/css\" >\n",
       "#T_d139a_row0_col0{\n",
       "            background-color:  #f6e0ba;\n",
       "            color:  #000000;\n",
       "        }#T_d139a_row0_col1{\n",
       "            background-color:  #f9cd7f;\n",
       "            color:  #000000;\n",
       "        }#T_d139a_row1_col0,#T_d139a_row2_col1{\n",
       "            background-color:  #f3f0ee;\n",
       "            color:  #000000;\n",
       "            font-weight: bold;\n",
       "        }#T_d139a_row1_col1{\n",
       "            background-color:  #fac669;\n",
       "            color:  #000000;\n",
       "        }#T_d139a_row2_col0,#T_d139a_row3_col1{\n",
       "            background-color:  #ffa500;\n",
       "            color:  #000000;\n",
       "        }#T_d139a_row3_col0{\n",
       "            background-color:  #f7d69b;\n",
       "            color:  #000000;\n",
       "        }</style><table id=\"T_d139a_\" ><thead>    <tr>        <th class=\"blank level0\" ></th>        <th class=\"col_heading level0 col0\" >Tiger</th>        <th class=\"col_heading level0 col1\" >Crying Baby</th>    </tr>    <tr>        <th class=\"index_name level0\" >package</th>        <th class=\"blank\" ></th>        <th class=\"blank\" ></th>    </tr></thead><tbody>\n",
       "                <tr>\n",
       "                        <th id=\"T_d139a_level0_row0\" class=\"row_heading level0 row0\" >FIB</th>\n",
       "                        <td id=\"T_d139a_row0_col0\" class=\"data row0 col0\" >376463.0000</td>\n",
       "                        <td id=\"T_d139a_row0_col1\" class=\"data row0 col1\" >-2199683.0000</td>\n",
       "            </tr>\n",
       "            <tr>\n",
       "                        <th id=\"T_d139a_level0_row1\" class=\"row_heading level0 row1\" >PBVI</th>\n",
       "                        <td id=\"T_d139a_row1_col0\" class=\"data row1 col0\" >373155.0000</td>\n",
       "                        <td id=\"T_d139a_row1_col1\" class=\"data row1 col1\" >-2198110.0000</td>\n",
       "            </tr>\n",
       "            <tr>\n",
       "                        <th id=\"T_d139a_level0_row2\" class=\"row_heading level0 row2\" >QMDP</th>\n",
       "                        <td id=\"T_d139a_row2_col0\" class=\"data row2 col0\" >388158.0000</td>\n",
       "                        <td id=\"T_d139a_row2_col1\" class=\"data row2 col1\" >-2207513.0000</td>\n",
       "            </tr>\n",
       "            <tr>\n",
       "                        <th id=\"T_d139a_level0_row3\" class=\"row_heading level0 row3\" >SARSOP</th>\n",
       "                        <td id=\"T_d139a_row3_col0\" class=\"data row3 col0\" >378409.0000</td>\n",
       "                        <td id=\"T_d139a_row3_col1\" class=\"data row3 col1\" >-2190695.0000</td>\n",
       "            </tr>\n",
       "    </tbody></table>"
      ],
      "text/plain": [
       "<pandas.io.formats.style.Styler at 0x2172e95e808>"
      ]
     },
     "execution_count": 12,
     "metadata": {},
     "output_type": "execute_result"
    }
   ],
   "source": [
    "concatenated = pd.concat([tiger_sum_discounted, baby_sum_discounted], axis=1)\n",
    "concatenated.columns.values[0] = 'Tiger'\n",
    "concatenated.columns.values[1] = 'Crying Baby'\n",
    "\n",
    "concatenated.style.format('{:.4f}').background_gradient(cmap=cm).apply(\n",
    "    lambda col: ['font-weight:bold' if x==col.min() else ''\n",
    "                 for x in col])"
   ]
  }
 ],
 "metadata": {
  "kernelspec": {
   "display_name": "Python 3.7.6 64-bit",
   "language": "python",
   "name": "python3"
  },
  "language_info": {
   "codemirror_mode": {
    "name": "ipython",
    "version": 3
   },
   "file_extension": ".py",
   "mimetype": "text/x-python",
   "name": "python",
   "nbconvert_exporter": "python",
   "pygments_lexer": "ipython3",
   "version": "3.7.6"
  },
  "orig_nbformat": 4,
  "vscode": {
   "interpreter": {
    "hash": "12ead14085ee944fa78033d0b2fe0694b86af6c859d85943081f913fc60ad260"
   }
  }
 },
 "nbformat": 4,
 "nbformat_minor": 2
}
