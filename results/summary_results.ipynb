{
 "cells": [
  {
   "cell_type": "markdown",
   "metadata": {},
   "source": [
    "# summary results for 8 problems"
   ]
  },
  {
   "cell_type": "code",
   "execution_count": 1,
   "metadata": {},
   "outputs": [],
   "source": [
    "import pandas as pd\n",
    "import numpy as np\n",
    "#\n",
    "# from math import sqrt\n",
    "import seaborn as sns\n",
    "\n",
    "import warnings\n",
    "warnings.filterwarnings('ignore')"
   ]
  },
  {
   "cell_type": "markdown",
   "metadata": {},
   "source": [
    "## Crying Baby\n",
    "\n",
    "runtime is the sum of 100 simulations, each simulation contains 1000 games"
   ]
  },
  {
   "cell_type": "code",
   "execution_count": 2,
   "metadata": {},
   "outputs": [
    {
     "data": {
      "text/html": [
       "<style  type=\"text/css\" >\n",
       "#T_e71b2_row0_col0,#T_e71b2_row0_col4,#T_e71b2_row1_col0,#T_e71b2_row1_col1,#T_e71b2_row1_col2,#T_e71b2_row2_col0,#T_e71b2_row2_col3,#T_e71b2_row3_col0,#T_e71b2_row4_col0,#T_e71b2_row5_col0,#T_e71b2_row5_col4{\n",
       "            background-color:  #f3f0ee;\n",
       "            color:  #000000;\n",
       "        }#T_e71b2_row0_col1,#T_e71b2_row0_col2{\n",
       "            background-color:  #f3efea;\n",
       "            color:  #000000;\n",
       "        }#T_e71b2_row0_col3{\n",
       "            background-color:  #ffa501;\n",
       "            color:  #000000;\n",
       "        }#T_e71b2_row1_col3,#T_e71b2_row3_col4,#T_e71b2_row5_col3{\n",
       "            background-color:  #ffa500;\n",
       "            color:  #000000;\n",
       "        }#T_e71b2_row1_col4{\n",
       "            background-color:  #f3eee9;\n",
       "            color:  #000000;\n",
       "        }#T_e71b2_row2_col1,#T_e71b2_row2_col2{\n",
       "            background-color:  #ffa500;\n",
       "            color:  #000000;\n",
       "            font-weight: bold;\n",
       "        }#T_e71b2_row2_col4{\n",
       "            background-color:  #f9c86e;\n",
       "            color:  #000000;\n",
       "        }#T_e71b2_row3_col1,#T_e71b2_row3_col2{\n",
       "            background-color:  #fcb941;\n",
       "            color:  #000000;\n",
       "        }#T_e71b2_row3_col3{\n",
       "            background-color:  #f6deb4;\n",
       "            color:  #000000;\n",
       "        }#T_e71b2_row4_col1,#T_e71b2_row4_col2{\n",
       "            background-color:  #f3eee8;\n",
       "            color:  #000000;\n",
       "        }#T_e71b2_row4_col3{\n",
       "            background-color:  #ffa604;\n",
       "            color:  #000000;\n",
       "        }#T_e71b2_row4_col4{\n",
       "            background-color:  #f3f0ee;\n",
       "            color:  #000000;\n",
       "            font-weight: bold;\n",
       "        }#T_e71b2_row5_col1,#T_e71b2_row5_col2{\n",
       "            background-color:  #f3efeb;\n",
       "            color:  #000000;\n",
       "        }</style><table id=\"T_e71b2_\" ><thead>    <tr>        <th class=\"blank level0\" ></th>        <th class=\"col_heading level0 col0\" >n_games</th>        <th class=\"col_heading level0 col1\" >sum_reward</th>        <th class=\"col_heading level0 col2\" >sum_discount_reward</th>        <th class=\"col_heading level0 col3\" >avg_steps_per_game</th>        <th class=\"col_heading level0 col4\" >runtime</th>    </tr>    <tr>        <th class=\"index_name level0\" >package</th>        <th class=\"blank\" ></th>        <th class=\"blank\" ></th>        <th class=\"blank\" ></th>        <th class=\"blank\" ></th>        <th class=\"blank\" ></th>    </tr></thead><tbody>\n",
       "                <tr>\n",
       "                        <th id=\"T_e71b2_level0_row0\" class=\"row_heading level0 row0\" >FIB</th>\n",
       "                        <td id=\"T_e71b2_row0_col0\" class=\"data row0 col0\" >10000.0000</td>\n",
       "                        <td id=\"T_e71b2_row0_col1\" class=\"data row0 col1\" >-241100.0000</td>\n",
       "                        <td id=\"T_e71b2_row0_col2\" class=\"data row0 col2\" >-217110.0000</td>\n",
       "                        <td id=\"T_e71b2_row0_col3\" class=\"data row0 col3\" >133.9140</td>\n",
       "                        <td id=\"T_e71b2_row0_col4\" class=\"data row0 col4\" >0.3456</td>\n",
       "            </tr>\n",
       "            <tr>\n",
       "                        <th id=\"T_e71b2_level0_row1\" class=\"row_heading level0 row1\" >PBVI</th>\n",
       "                        <td id=\"T_e71b2_row1_col0\" class=\"data row1 col0\" >10000.0000</td>\n",
       "                        <td id=\"T_e71b2_row1_col1\" class=\"data row1 col1\" >-244765.0000</td>\n",
       "                        <td id=\"T_e71b2_row1_col2\" class=\"data row1 col2\" >-220363.0000</td>\n",
       "                        <td id=\"T_e71b2_row1_col3\" class=\"data row1 col3\" >134.6350</td>\n",
       "                        <td id=\"T_e71b2_row1_col4\" class=\"data row1 col4\" >2.0789</td>\n",
       "            </tr>\n",
       "            <tr>\n",
       "                        <th id=\"T_e71b2_level0_row2\" class=\"row_heading level0 row2\" >POMCP</th>\n",
       "                        <td id=\"T_e71b2_row2_col0\" class=\"data row2 col0\" >10000.0000</td>\n",
       "                        <td id=\"T_e71b2_row2_col1\" class=\"data row2 col1\" >-84050.0000</td>\n",
       "                        <td id=\"T_e71b2_row2_col2\" class=\"data row2 col2\" >-75864.0000</td>\n",
       "                        <td id=\"T_e71b2_row2_col3\" class=\"data row2 col3\" >30.5030</td>\n",
       "                        <td id=\"T_e71b2_row2_col4\" class=\"data row2 col4\" >44.6098</td>\n",
       "            </tr>\n",
       "            <tr>\n",
       "                        <th id=\"T_e71b2_level0_row3\" class=\"row_heading level0 row3\" >POMCPOW</th>\n",
       "                        <td id=\"T_e71b2_row3_col0\" class=\"data row3 col0\" >10000.0000</td>\n",
       "                        <td id=\"T_e71b2_row3_col1\" class=\"data row3 col1\" >-127875.0000</td>\n",
       "                        <td id=\"T_e71b2_row3_col2\" class=\"data row3 col2\" >-115277.0000</td>\n",
       "                        <td id=\"T_e71b2_row3_col3\" class=\"data row3 col3\" >56.3080</td>\n",
       "                        <td id=\"T_e71b2_row3_col4\" class=\"data row3 col4\" >83.0015</td>\n",
       "            </tr>\n",
       "            <tr>\n",
       "                        <th id=\"T_e71b2_level0_row4\" class=\"row_heading level0 row4\" >QMDP</th>\n",
       "                        <td id=\"T_e71b2_row4_col0\" class=\"data row4 col0\" >10000.0000</td>\n",
       "                        <td id=\"T_e71b2_row4_col1\" class=\"data row4 col1\" >-240125.0000</td>\n",
       "                        <td id=\"T_e71b2_row4_col2\" class=\"data row4 col2\" >-216254.0000</td>\n",
       "                        <td id=\"T_e71b2_row4_col3\" class=\"data row4 col3\" >132.8520</td>\n",
       "                        <td id=\"T_e71b2_row4_col4\" class=\"data row4 col4\" >0.1041</td>\n",
       "            </tr>\n",
       "            <tr>\n",
       "                        <th id=\"T_e71b2_level0_row5\" class=\"row_heading level0 row5\" >SARSOP</th>\n",
       "                        <td id=\"T_e71b2_row5_col0\" class=\"data row5 col0\" >10000.0000</td>\n",
       "                        <td id=\"T_e71b2_row5_col1\" class=\"data row5 col1\" >-242010.0000</td>\n",
       "                        <td id=\"T_e71b2_row5_col2\" class=\"data row5 col2\" >-218068.0000</td>\n",
       "                        <td id=\"T_e71b2_row5_col3\" class=\"data row5 col3\" >134.4960</td>\n",
       "                        <td id=\"T_e71b2_row5_col4\" class=\"data row5 col4\" >0.3376</td>\n",
       "            </tr>\n",
       "    </tbody></table>"
      ],
      "text/plain": [
       "<pandas.io.formats.style.Styler at 0x1ad203fe208>"
      ]
     },
     "execution_count": 2,
     "metadata": {},
     "output_type": "execute_result"
    }
   ],
   "source": [
    "df = pd.read_table(\"cryingBabyProblem.csv\",sep=',')\n",
    "\n",
    "cm = sns.light_palette(\"orange\", as_cmap=True)\n",
    "df2 = df.groupby([\"package\"]).sum().round(4)\n",
    "df2 = df2[[i for i in df2.columns if i not in ['id']]]\n",
    "df2.style.format('{:.4f}').background_gradient(cmap=cm).apply(\n",
    "    lambda col: ['font-weight:bold' \n",
    "                 if ((x==col.max() and col.name in [\"sum_reward\",\"sum_discount_reward\"\n",
    "                     ]) \n",
    "                     or (x==col.min() and col.name in [\"avg_steps\",\"runtime\"]))\n",
    "                 else '' \n",
    "                 for x in col])"
   ]
  },
  {
   "cell_type": "code",
   "execution_count": 3,
   "metadata": {},
   "outputs": [
    {
     "name": "stdout",
     "output_type": "stream",
     "text": [
      "package\n",
      "FIB         0.3456\n",
      "PBVI        2.0789\n",
      "POMCP      44.6098\n",
      "POMCPOW    83.0015\n",
      "QMDP        0.1041\n",
      "SARSOP      0.3376\n",
      "Name: runtime, dtype: float64\n",
      "package\n",
      "FIB       -217110\n",
      "PBVI      -220363\n",
      "POMCP      -75864\n",
      "POMCPOW   -115277\n",
      "QMDP      -216254\n",
      "SARSOP    -218068\n",
      "Name: sum_discount_reward, dtype: int64\n"
     ]
    }
   ],
   "source": [
    "baby_runtime = df2[\"runtime\"]\n",
    "print(baby_runtime)\n",
    "\n",
    "baby_sum_discounted = df2[\"sum_discount_reward\"]\n",
    "print(baby_sum_discounted)"
   ]
  },
  {
   "cell_type": "markdown",
   "metadata": {},
   "source": [
    "## Tiger\n",
    "\n",
    "runtime is the sum of 100 simulations, each simulation contains 1000 games"
   ]
  },
  {
   "cell_type": "code",
   "execution_count": 4,
   "metadata": {},
   "outputs": [
    {
     "data": {
      "text/html": [
       "<style  type=\"text/css\" >\n",
       "#T_3b900_row0_col0,#T_3b900_row1_col0,#T_3b900_row1_col4,#T_3b900_row2_col0,#T_3b900_row3_col0,#T_3b900_row3_col1,#T_3b900_row3_col2,#T_3b900_row3_col3,#T_3b900_row4_col0,#T_3b900_row4_col4,#T_3b900_row5_col0,#T_3b900_row5_col4{\n",
       "            background-color:  #f3f0ee;\n",
       "            color:  #000000;\n",
       "        }#T_3b900_row0_col1,#T_3b900_row0_col2{\n",
       "            background-color:  #ffa500;\n",
       "            color:  #000000;\n",
       "            font-weight: bold;\n",
       "        }#T_3b900_row0_col3,#T_3b900_row1_col1,#T_3b900_row1_col2,#T_3b900_row5_col1,#T_3b900_row5_col2{\n",
       "            background-color:  #ffa602;\n",
       "            color:  #000000;\n",
       "        }#T_3b900_row0_col4{\n",
       "            background-color:  #f3f0ee;\n",
       "            color:  #000000;\n",
       "            font-weight: bold;\n",
       "        }#T_3b900_row1_col3{\n",
       "            background-color:  #ffa501;\n",
       "            color:  #000000;\n",
       "        }#T_3b900_row2_col1{\n",
       "            background-color:  #f4ece0;\n",
       "            color:  #000000;\n",
       "        }#T_3b900_row2_col2{\n",
       "            background-color:  #f4ebdf;\n",
       "            color:  #000000;\n",
       "        }#T_3b900_row2_col3{\n",
       "            background-color:  #f3ece2;\n",
       "            color:  #000000;\n",
       "        }#T_3b900_row2_col4{\n",
       "            background-color:  #f6dfb7;\n",
       "            color:  #000000;\n",
       "        }#T_3b900_row3_col4,#T_3b900_row4_col3,#T_3b900_row5_col3{\n",
       "            background-color:  #ffa500;\n",
       "            color:  #000000;\n",
       "        }#T_3b900_row4_col1,#T_3b900_row4_col2{\n",
       "            background-color:  #ffa603;\n",
       "            color:  #000000;\n",
       "        }</style><table id=\"T_3b900_\" ><thead>    <tr>        <th class=\"blank level0\" ></th>        <th class=\"col_heading level0 col0\" >n_games</th>        <th class=\"col_heading level0 col1\" >sum_reward</th>        <th class=\"col_heading level0 col2\" >sum_discount_reward</th>        <th class=\"col_heading level0 col3\" >avg_steps_per_game</th>        <th class=\"col_heading level0 col4\" >runtime</th>    </tr>    <tr>        <th class=\"index_name level0\" >package</th>        <th class=\"blank\" ></th>        <th class=\"blank\" ></th>        <th class=\"blank\" ></th>        <th class=\"blank\" ></th>        <th class=\"blank\" ></th>    </tr></thead><tbody>\n",
       "                <tr>\n",
       "                        <th id=\"T_3b900_level0_row0\" class=\"row_heading level0 row0\" >FIB</th>\n",
       "                        <td id=\"T_3b900_row0_col0\" class=\"data row0 col0\" >10000.0000</td>\n",
       "                        <td id=\"T_3b900_row0_col1\" class=\"data row0 col1\" >43440.0000</td>\n",
       "                        <td id=\"T_3b900_row0_col2\" class=\"data row0 col2\" >41408.0000</td>\n",
       "                        <td id=\"T_3b900_row0_col3\" class=\"data row0 col3\" >36.7500</td>\n",
       "                        <td id=\"T_3b900_row0_col4\" class=\"data row0 col4\" >0.1779</td>\n",
       "            </tr>\n",
       "            <tr>\n",
       "                        <th id=\"T_3b900_level0_row1\" class=\"row_heading level0 row1\" >PBVI</th>\n",
       "                        <td id=\"T_3b900_row1_col0\" class=\"data row1 col0\" >10000.0000</td>\n",
       "                        <td id=\"T_3b900_row1_col1\" class=\"data row1 col1\" >39856.0000</td>\n",
       "                        <td id=\"T_3b900_row1_col2\" class=\"data row1 col2\" >38115.0000</td>\n",
       "                        <td id=\"T_3b900_row1_col3\" class=\"data row1 col3\" >36.8140</td>\n",
       "                        <td id=\"T_3b900_row1_col4\" class=\"data row1 col4\" >0.4323</td>\n",
       "            </tr>\n",
       "            <tr>\n",
       "                        <th id=\"T_3b900_level0_row2\" class=\"row_heading level0 row2\" >POMCP</th>\n",
       "                        <td id=\"T_3b900_row2_col0\" class=\"data row2 col0\" >10000.0000</td>\n",
       "                        <td id=\"T_3b900_row2_col1\" class=\"data row2 col1\" >-264424.0000</td>\n",
       "                        <td id=\"T_3b900_row2_col2\" class=\"data row2 col2\" >-254048.0000</td>\n",
       "                        <td id=\"T_3b900_row2_col3\" class=\"data row2 col3\" >21.7640</td>\n",
       "                        <td id=\"T_3b900_row2_col4\" class=\"data row2 col4\" >163.0138</td>\n",
       "            </tr>\n",
       "            <tr>\n",
       "                        <th id=\"T_3b900_level0_row3\" class=\"row_heading level0 row3\" >POMCPOW</th>\n",
       "                        <td id=\"T_3b900_row3_col0\" class=\"data row3 col0\" >10000.0000</td>\n",
       "                        <td id=\"T_3b900_row3_col1\" class=\"data row3 col1\" >-284511.0000</td>\n",
       "                        <td id=\"T_3b900_row3_col2\" class=\"data row3 col2\" >-273947.0000</td>\n",
       "                        <td id=\"T_3b900_row3_col3\" class=\"data row3 col3\" >20.9510</td>\n",
       "                        <td id=\"T_3b900_row3_col4\" class=\"data row3 col4\" >704.4068</td>\n",
       "            </tr>\n",
       "            <tr>\n",
       "                        <th id=\"T_3b900_level0_row4\" class=\"row_heading level0 row4\" >QMDP</th>\n",
       "                        <td id=\"T_3b900_row4_col0\" class=\"data row4 col0\" >10000.0000</td>\n",
       "                        <td id=\"T_3b900_row4_col1\" class=\"data row4 col1\" >39514.0000</td>\n",
       "                        <td id=\"T_3b900_row4_col2\" class=\"data row4 col2\" >37654.0000</td>\n",
       "                        <td id=\"T_3b900_row4_col3\" class=\"data row4 col3\" >36.9360</td>\n",
       "                        <td id=\"T_3b900_row4_col4\" class=\"data row4 col4\" >0.4524</td>\n",
       "            </tr>\n",
       "            <tr>\n",
       "                        <th id=\"T_3b900_level0_row5\" class=\"row_heading level0 row5\" >SARSOP</th>\n",
       "                        <td id=\"T_3b900_row5_col0\" class=\"data row5 col0\" >10000.0000</td>\n",
       "                        <td id=\"T_3b900_row5_col1\" class=\"data row5 col1\" >39850.0000</td>\n",
       "                        <td id=\"T_3b900_row5_col2\" class=\"data row5 col2\" >37964.0000</td>\n",
       "                        <td id=\"T_3b900_row5_col3\" class=\"data row5 col3\" >36.9300</td>\n",
       "                        <td id=\"T_3b900_row5_col4\" class=\"data row5 col4\" >0.4874</td>\n",
       "            </tr>\n",
       "    </tbody></table>"
      ],
      "text/plain": [
       "<pandas.io.formats.style.Styler at 0x1ad27aaf608>"
      ]
     },
     "execution_count": 4,
     "metadata": {},
     "output_type": "execute_result"
    }
   ],
   "source": [
    "df = pd.read_table(\"tigerProblem.csv\",sep=',')\n",
    "\n",
    "cm = sns.light_palette(\"orange\", as_cmap=True)\n",
    "df2 = df.groupby([\"package\"]).sum().round(4)\n",
    "df2 = df2[[i for i in df2.columns if i not in ['id']]]\n",
    "df2.style.format('{:.4f}').background_gradient(cmap=cm).apply(\n",
    "    lambda col: ['font-weight:bold' \n",
    "                 if ((x==col.max() and col.name in [\n",
    "                     \"num_correct_door\",\"sum_reward\",\"sum_discount_reward\"\n",
    "                     ]) \n",
    "                     or (x==col.min() and col.name in [\"num_wrong_door\",\"avg_steps\",\"runtime\"]))\n",
    "                 else '' \n",
    "                 for x in col])"
   ]
  },
  {
   "cell_type": "code",
   "execution_count": 5,
   "metadata": {},
   "outputs": [
    {
     "name": "stdout",
     "output_type": "stream",
     "text": [
      "package\n",
      "FIB          0.1779\n",
      "PBVI         0.4323\n",
      "POMCP      163.0138\n",
      "POMCPOW    704.4068\n",
      "QMDP         0.4524\n",
      "SARSOP       0.4874\n",
      "Name: runtime, dtype: float64\n",
      "package\n",
      "FIB         41408\n",
      "PBVI        38115\n",
      "POMCP     -254048\n",
      "POMCPOW   -273947\n",
      "QMDP        37654\n",
      "SARSOP      37964\n",
      "Name: sum_discount_reward, dtype: int64\n"
     ]
    }
   ],
   "source": [
    "tiger_runtime = df2[\"runtime\"]\n",
    "print(tiger_runtime)\n",
    "\n",
    "tiger_sum_discounted = df2[\"sum_discount_reward\"]\n",
    "print(tiger_sum_discounted)"
   ]
  },
  {
   "cell_type": "markdown",
   "metadata": {},
   "source": [
    "## Paint\n",
    "runtime is the sum of 100 simulations, each simulation contains 1000 games"
   ]
  },
  {
   "cell_type": "code",
   "execution_count": null,
   "metadata": {},
   "outputs": [],
   "source": []
  },
  {
   "cell_type": "code",
   "execution_count": null,
   "metadata": {},
   "outputs": [],
   "source": []
  },
  {
   "cell_type": "markdown",
   "metadata": {},
   "source": [
    "## Rock Sample\n",
    "\n",
    "runtime is the sum of 100 simulations, each simulation contains 1000 games"
   ]
  },
  {
   "cell_type": "code",
   "execution_count": 6,
   "metadata": {},
   "outputs": [
    {
     "data": {
      "text/html": [
       "<style  type=\"text/css\" >\n",
       "#T_48ccb_row0_col0,#T_48ccb_row0_col1,#T_48ccb_row0_col2,#T_48ccb_row0_col3,#T_48ccb_row1_col0,#T_48ccb_row2_col0{\n",
       "            background-color:  #f3f0ee;\n",
       "            color:  #000000;\n",
       "        }#T_48ccb_row0_col4{\n",
       "            background-color:  #f3f0ee;\n",
       "            color:  #000000;\n",
       "            font-weight: bold;\n",
       "        }#T_48ccb_row1_col1{\n",
       "            background-color:  #f4ebdf;\n",
       "            color:  #000000;\n",
       "        }#T_48ccb_row1_col2{\n",
       "            background-color:  #f3ede5;\n",
       "            color:  #000000;\n",
       "        }#T_48ccb_row1_col3{\n",
       "            background-color:  #f5e0bc;\n",
       "            color:  #000000;\n",
       "        }#T_48ccb_row1_col4{\n",
       "            background-color:  #f8d392;\n",
       "            color:  #000000;\n",
       "        }#T_48ccb_row2_col1,#T_48ccb_row2_col2{\n",
       "            background-color:  #ffa500;\n",
       "            color:  #000000;\n",
       "            font-weight: bold;\n",
       "        }#T_48ccb_row2_col3,#T_48ccb_row2_col4{\n",
       "            background-color:  #ffa500;\n",
       "            color:  #000000;\n",
       "        }</style><table id=\"T_48ccb_\" ><thead>    <tr>        <th class=\"blank level0\" ></th>        <th class=\"col_heading level0 col0\" >n_games</th>        <th class=\"col_heading level0 col1\" >sum_reward</th>        <th class=\"col_heading level0 col2\" >sum_discount_reward</th>        <th class=\"col_heading level0 col3\" >avg_steps_per_game</th>        <th class=\"col_heading level0 col4\" >runtime</th>    </tr>    <tr>        <th class=\"index_name level0\" >package</th>        <th class=\"blank\" ></th>        <th class=\"blank\" ></th>        <th class=\"blank\" ></th>        <th class=\"blank\" ></th>        <th class=\"blank\" ></th>    </tr></thead><tbody>\n",
       "                <tr>\n",
       "                        <th id=\"T_48ccb_level0_row0\" class=\"row_heading level0 row0\" >POMCP</th>\n",
       "                        <td id=\"T_48ccb_row0_col0\" class=\"data row0 col0\" >100.0000</td>\n",
       "                        <td id=\"T_48ccb_row0_col1\" class=\"data row0 col1\" >1630.0000</td>\n",
       "                        <td id=\"T_48ccb_row0_col2\" class=\"data row0 col2\" >2227.0000</td>\n",
       "                        <td id=\"T_48ccb_row0_col3\" class=\"data row0 col3\" >39.7000</td>\n",
       "                        <td id=\"T_48ccb_row0_col4\" class=\"data row0 col4\" >0.8673</td>\n",
       "            </tr>\n",
       "            <tr>\n",
       "                        <th id=\"T_48ccb_level0_row1\" class=\"row_heading level0 row1\" >POMCPOW</th>\n",
       "                        <td id=\"T_48ccb_row1_col0\" class=\"data row1 col0\" >100.0000</td>\n",
       "                        <td id=\"T_48ccb_row1_col1\" class=\"data row1 col1\" >1760.0000</td>\n",
       "                        <td id=\"T_48ccb_row1_col2\" class=\"data row1 col2\" >2314.0000</td>\n",
       "                        <td id=\"T_48ccb_row1_col3\" class=\"data row1 col3\" >46.3000</td>\n",
       "                        <td id=\"T_48ccb_row1_col4\" class=\"data row1 col4\" >1.0411</td>\n",
       "            </tr>\n",
       "            <tr>\n",
       "                        <th id=\"T_48ccb_level0_row2\" class=\"row_heading level0 row2\" >SARSOP</th>\n",
       "                        <td id=\"T_48ccb_row2_col0\" class=\"data row2 col0\" >100.0000</td>\n",
       "                        <td id=\"T_48ccb_row2_col1\" class=\"data row2 col1\" >3600.0000</td>\n",
       "                        <td id=\"T_48ccb_row2_col2\" class=\"data row2 col2\" >4330.0000</td>\n",
       "                        <td id=\"T_48ccb_row2_col3\" class=\"data row2 col3\" >70.5000</td>\n",
       "                        <td id=\"T_48ccb_row2_col4\" class=\"data row2 col4\" >1.3159</td>\n",
       "            </tr>\n",
       "    </tbody></table>"
      ],
      "text/plain": [
       "<pandas.io.formats.style.Styler at 0x1ad27cd8688>"
      ]
     },
     "execution_count": 6,
     "metadata": {},
     "output_type": "execute_result"
    }
   ],
   "source": [
    "df = pd.read_table(\"rockSampleProblem.csv\",sep=',')\n",
    "\n",
    "cm = sns.light_palette(\"orange\", as_cmap=True)\n",
    "df2 = df.groupby([\"package\"]).sum().round(4)\n",
    "df2 = df2[[i for i in df2.columns if i not in ['id']]]\n",
    "df2.style.format('{:.4f}').background_gradient(cmap=cm).apply(\n",
    "    lambda col: ['font-weight:bold' \n",
    "                 if ((x==col.max() and col.name in [\n",
    "                     \"num_correct_door\",\"sum_reward\",\"sum_discount_reward\"\n",
    "                     ]) \n",
    "                     or (x==col.min() and col.name in [\"num_wrong_door\",\"avg_steps\",\"runtime\"]))\n",
    "                 else '' \n",
    "                 for x in col])"
   ]
  },
  {
   "cell_type": "code",
   "execution_count": 7,
   "metadata": {},
   "outputs": [
    {
     "name": "stdout",
     "output_type": "stream",
     "text": [
      "package\n",
      "POMCP      0.8673\n",
      "POMCPOW    1.0411\n",
      "SARSOP     1.3159\n",
      "Name: runtime, dtype: float64\n",
      "package\n",
      "POMCP      2227\n",
      "POMCPOW    2314\n",
      "SARSOP     4330\n",
      "Name: sum_discount_reward, dtype: int64\n"
     ]
    }
   ],
   "source": [
    "rock_runtime = df2[\"runtime\"]\n",
    "print(rock_runtime)\n",
    "\n",
    "rock_sum_discounted = df2[\"sum_discount_reward\"]\n",
    "print(rock_sum_discounted)"
   ]
  },
  {
   "cell_type": "markdown",
   "metadata": {},
   "source": [
    "## Query"
   ]
  },
  {
   "cell_type": "code",
   "execution_count": null,
   "metadata": {},
   "outputs": [],
   "source": []
  },
  {
   "cell_type": "code",
   "execution_count": null,
   "metadata": {},
   "outputs": [],
   "source": []
  },
  {
   "cell_type": "markdown",
   "metadata": {},
   "source": [
    "## Mini hallway\n",
    "\n",
    "Some error for problem setup"
   ]
  },
  {
   "cell_type": "code",
   "execution_count": 8,
   "metadata": {},
   "outputs": [
    {
     "data": {
      "text/html": [
       "<style  type=\"text/css\" >\n",
       "#T_b0173_row0_col0,#T_b0173_row0_col1,#T_b0173_row0_col2,#T_b0173_row0_col3,#T_b0173_row1_col0,#T_b0173_row1_col3,#T_b0173_row2_col0,#T_b0173_row2_col1,#T_b0173_row2_col2,#T_b0173_row2_col3,#T_b0173_row2_col4,#T_b0173_row3_col0,#T_b0173_row3_col3,#T_b0173_row3_col4{\n",
       "            background-color:  #f3f0ee;\n",
       "            color:  #000000;\n",
       "        }#T_b0173_row0_col4{\n",
       "            background-color:  #f3f0ee;\n",
       "            color:  #000000;\n",
       "            font-weight: bold;\n",
       "        }#T_b0173_row1_col1,#T_b0173_row1_col2,#T_b0173_row3_col1,#T_b0173_row3_col2{\n",
       "            background-color:  #ffa500;\n",
       "            color:  #000000;\n",
       "            font-weight: bold;\n",
       "        }#T_b0173_row1_col4{\n",
       "            background-color:  #ffa500;\n",
       "            color:  #000000;\n",
       "        }</style><table id=\"T_b0173_\" ><thead>    <tr>        <th class=\"blank level0\" ></th>        <th class=\"col_heading level0 col0\" >n_games</th>        <th class=\"col_heading level0 col1\" >sum_reward</th>        <th class=\"col_heading level0 col2\" >sum_discount_reward</th>        <th class=\"col_heading level0 col3\" >avg_steps_per_game</th>        <th class=\"col_heading level0 col4\" >runtime</th>    </tr>    <tr>        <th class=\"index_name level0\" >package</th>        <th class=\"blank\" ></th>        <th class=\"blank\" ></th>        <th class=\"blank\" ></th>        <th class=\"blank\" ></th>        <th class=\"blank\" ></th>    </tr></thead><tbody>\n",
       "                <tr>\n",
       "                        <th id=\"T_b0173_level0_row0\" class=\"row_heading level0 row0\" >FIB</th>\n",
       "                        <td id=\"T_b0173_row0_col0\" class=\"data row0 col0\" >10000.0000</td>\n",
       "                        <td id=\"T_b0173_row0_col1\" class=\"data row0 col1\" >3.0000</td>\n",
       "                        <td id=\"T_b0173_row0_col2\" class=\"data row0 col2\" >3.0000</td>\n",
       "                        <td id=\"T_b0173_row0_col3\" class=\"data row0 col3\" >10.0000</td>\n",
       "                        <td id=\"T_b0173_row0_col4\" class=\"data row0 col4\" >0.1375</td>\n",
       "            </tr>\n",
       "            <tr>\n",
       "                        <th id=\"T_b0173_level0_row1\" class=\"row_heading level0 row1\" >POMCP</th>\n",
       "                        <td id=\"T_b0173_row1_col0\" class=\"data row1 col0\" >10000.0000</td>\n",
       "                        <td id=\"T_b0173_row1_col1\" class=\"data row1 col1\" >10.0000</td>\n",
       "                        <td id=\"T_b0173_row1_col2\" class=\"data row1 col2\" >10.0000</td>\n",
       "                        <td id=\"T_b0173_row1_col3\" class=\"data row1 col3\" >10.0000</td>\n",
       "                        <td id=\"T_b0173_row1_col4\" class=\"data row1 col4\" >29.4376</td>\n",
       "            </tr>\n",
       "            <tr>\n",
       "                        <th id=\"T_b0173_level0_row2\" class=\"row_heading level0 row2\" >QMDP</th>\n",
       "                        <td id=\"T_b0173_row2_col0\" class=\"data row2 col0\" >10000.0000</td>\n",
       "                        <td id=\"T_b0173_row2_col1\" class=\"data row2 col1\" >3.0000</td>\n",
       "                        <td id=\"T_b0173_row2_col2\" class=\"data row2 col2\" >3.0000</td>\n",
       "                        <td id=\"T_b0173_row2_col3\" class=\"data row2 col3\" >10.0000</td>\n",
       "                        <td id=\"T_b0173_row2_col4\" class=\"data row2 col4\" >0.1909</td>\n",
       "            </tr>\n",
       "            <tr>\n",
       "                        <th id=\"T_b0173_level0_row3\" class=\"row_heading level0 row3\" >SARSOP</th>\n",
       "                        <td id=\"T_b0173_row3_col0\" class=\"data row3 col0\" >10000.0000</td>\n",
       "                        <td id=\"T_b0173_row3_col1\" class=\"data row3 col1\" >10.0000</td>\n",
       "                        <td id=\"T_b0173_row3_col2\" class=\"data row3 col2\" >10.0000</td>\n",
       "                        <td id=\"T_b0173_row3_col3\" class=\"data row3 col3\" >10.0000</td>\n",
       "                        <td id=\"T_b0173_row3_col4\" class=\"data row3 col4\" >0.2428</td>\n",
       "            </tr>\n",
       "    </tbody></table>"
      ],
      "text/plain": [
       "<pandas.io.formats.style.Styler at 0x1ad27abb4c8>"
      ]
     },
     "execution_count": 8,
     "metadata": {},
     "output_type": "execute_result"
    }
   ],
   "source": [
    "df = pd.read_table(\"miniHallwayProblem.csv\",sep=',')\n",
    "\n",
    "cm = sns.light_palette(\"orange\", as_cmap=True)\n",
    "df2 = df.groupby([\"package\"]).sum().round(4)\n",
    "df2 = df2[[i for i in df2.columns if i not in ['id']]]\n",
    "df2.style.format('{:.4f}').background_gradient(cmap=cm).apply(\n",
    "    lambda col: ['font-weight:bold' \n",
    "                 if ((x==col.max() and col.name in [\n",
    "                     \"num_correct_door\",\"sum_reward\",\"sum_discount_reward\"\n",
    "                     ]) \n",
    "                     or (x==col.min() and col.name in [\"num_wrong_door\",\"avg_steps\",\"runtime\"]))\n",
    "                 else '' \n",
    "                 for x in col])"
   ]
  },
  {
   "cell_type": "code",
   "execution_count": 9,
   "metadata": {},
   "outputs": [
    {
     "name": "stdout",
     "output_type": "stream",
     "text": [
      "package\n",
      "FIB        0.1375\n",
      "POMCP     29.4376\n",
      "QMDP       0.1909\n",
      "SARSOP     0.2428\n",
      "Name: runtime, dtype: float64\n",
      "package\n",
      "FIB        3\n",
      "POMCP     10\n",
      "QMDP       3\n",
      "SARSOP    10\n",
      "Name: sum_discount_reward, dtype: int64\n"
     ]
    }
   ],
   "source": [
    "miniHallway_runtime = df2[\"runtime\"]\n",
    "print(miniHallway_runtime)\n",
    "\n",
    "miniHallway_sum_discounted = df2[\"sum_discount_reward\"]\n",
    "print(miniHallway_sum_discounted)"
   ]
  },
  {
   "cell_type": "markdown",
   "metadata": {},
   "source": [
    "## Simple grid world (3 $\\times$ 3)\n"
   ]
  },
  {
   "cell_type": "code",
   "execution_count": null,
   "metadata": {},
   "outputs": [],
   "source": []
  },
  {
   "cell_type": "code",
   "execution_count": null,
   "metadata": {},
   "outputs": [],
   "source": []
  },
  {
   "cell_type": "markdown",
   "metadata": {},
   "source": [
    "## T-Maze problem (arm length =3)"
   ]
  },
  {
   "cell_type": "code",
   "execution_count": null,
   "metadata": {},
   "outputs": [],
   "source": []
  },
  {
   "cell_type": "code",
   "execution_count": null,
   "metadata": {},
   "outputs": [],
   "source": []
  },
  {
   "cell_type": "markdown",
   "metadata": {},
   "source": [
    "# Summary"
   ]
  },
  {
   "cell_type": "markdown",
   "metadata": {},
   "source": [
    "## Runtime"
   ]
  },
  {
   "cell_type": "code",
   "execution_count": 10,
   "metadata": {},
   "outputs": [
    {
     "data": {
      "text/html": [
       "<style  type=\"text/css\" >\n",
       "#T_eea76_row0_col0,#T_eea76_row0_col3,#T_eea76_row1_col0,#T_eea76_row1_col1,#T_eea76_row1_col2,#T_eea76_row1_col3,#T_eea76_row3_col2,#T_eea76_row4_col1,#T_eea76_row4_col2,#T_eea76_row4_col3,#T_eea76_row5_col0,#T_eea76_row5_col1,#T_eea76_row5_col2{\n",
       "            background-color:  #b3e2cd;\n",
       "            color:  #000000;\n",
       "        }#T_eea76_row0_col1,#T_eea76_row0_col2,#T_eea76_row2_col3,#T_eea76_row4_col0{\n",
       "            background-color:  #b3e2cd;\n",
       "            color:  #000000;\n",
       "            font-weight: bold;\n",
       "        }#T_eea76_row2_col0{\n",
       "            background-color:  #e6f5c9;\n",
       "            color:  #000000;\n",
       "        }#T_eea76_row2_col1{\n",
       "            background-color:  #fdcdac;\n",
       "            color:  #000000;\n",
       "        }#T_eea76_row2_col2,#T_eea76_row3_col0,#T_eea76_row3_col1,#T_eea76_row5_col3{\n",
       "            background-color:  #cccccc;\n",
       "            color:  #000000;\n",
       "        }#T_eea76_row3_col3{\n",
       "            background-color:  #f4cae4;\n",
       "            color:  #000000;\n",
       "        }</style><table id=\"T_eea76_\" ><thead>    <tr>        <th class=\"blank level0\" ></th>        <th class=\"col_heading level0 col0\" >Crying Baby</th>        <th class=\"col_heading level0 col1\" >Tiger</th>        <th class=\"col_heading level0 col2\" >Mini Hallway</th>        <th class=\"col_heading level0 col3\" >Rock Sample</th>    </tr>    <tr>        <th class=\"index_name level0\" >package</th>        <th class=\"blank\" ></th>        <th class=\"blank\" ></th>        <th class=\"blank\" ></th>        <th class=\"blank\" ></th>    </tr></thead><tbody>\n",
       "                <tr>\n",
       "                        <th id=\"T_eea76_level0_row0\" class=\"row_heading level0 row0\" >FIB</th>\n",
       "                        <td id=\"T_eea76_row0_col0\" class=\"data row0 col0\" >0.3456</td>\n",
       "                        <td id=\"T_eea76_row0_col1\" class=\"data row0 col1\" >0.1779</td>\n",
       "                        <td id=\"T_eea76_row0_col2\" class=\"data row0 col2\" >0.1375</td>\n",
       "                        <td id=\"T_eea76_row0_col3\" class=\"data row0 col3\" >nan</td>\n",
       "            </tr>\n",
       "            <tr>\n",
       "                        <th id=\"T_eea76_level0_row1\" class=\"row_heading level0 row1\" >PBVI</th>\n",
       "                        <td id=\"T_eea76_row1_col0\" class=\"data row1 col0\" >2.0789</td>\n",
       "                        <td id=\"T_eea76_row1_col1\" class=\"data row1 col1\" >0.4323</td>\n",
       "                        <td id=\"T_eea76_row1_col2\" class=\"data row1 col2\" >nan</td>\n",
       "                        <td id=\"T_eea76_row1_col3\" class=\"data row1 col3\" >nan</td>\n",
       "            </tr>\n",
       "            <tr>\n",
       "                        <th id=\"T_eea76_level0_row2\" class=\"row_heading level0 row2\" >POMCP</th>\n",
       "                        <td id=\"T_eea76_row2_col0\" class=\"data row2 col0\" >44.6098</td>\n",
       "                        <td id=\"T_eea76_row2_col1\" class=\"data row2 col1\" >163.0138</td>\n",
       "                        <td id=\"T_eea76_row2_col2\" class=\"data row2 col2\" >29.4376</td>\n",
       "                        <td id=\"T_eea76_row2_col3\" class=\"data row2 col3\" >0.8673</td>\n",
       "            </tr>\n",
       "            <tr>\n",
       "                        <th id=\"T_eea76_level0_row3\" class=\"row_heading level0 row3\" >POMCPOW</th>\n",
       "                        <td id=\"T_eea76_row3_col0\" class=\"data row3 col0\" >83.0015</td>\n",
       "                        <td id=\"T_eea76_row3_col1\" class=\"data row3 col1\" >704.4068</td>\n",
       "                        <td id=\"T_eea76_row3_col2\" class=\"data row3 col2\" >nan</td>\n",
       "                        <td id=\"T_eea76_row3_col3\" class=\"data row3 col3\" >1.0411</td>\n",
       "            </tr>\n",
       "            <tr>\n",
       "                        <th id=\"T_eea76_level0_row4\" class=\"row_heading level0 row4\" >QMDP</th>\n",
       "                        <td id=\"T_eea76_row4_col0\" class=\"data row4 col0\" >0.1041</td>\n",
       "                        <td id=\"T_eea76_row4_col1\" class=\"data row4 col1\" >0.4524</td>\n",
       "                        <td id=\"T_eea76_row4_col2\" class=\"data row4 col2\" >0.1909</td>\n",
       "                        <td id=\"T_eea76_row4_col3\" class=\"data row4 col3\" >nan</td>\n",
       "            </tr>\n",
       "            <tr>\n",
       "                        <th id=\"T_eea76_level0_row5\" class=\"row_heading level0 row5\" >SARSOP</th>\n",
       "                        <td id=\"T_eea76_row5_col0\" class=\"data row5 col0\" >0.3376</td>\n",
       "                        <td id=\"T_eea76_row5_col1\" class=\"data row5 col1\" >0.4874</td>\n",
       "                        <td id=\"T_eea76_row5_col2\" class=\"data row5 col2\" >0.2428</td>\n",
       "                        <td id=\"T_eea76_row5_col3\" class=\"data row5 col3\" >1.3159</td>\n",
       "            </tr>\n",
       "    </tbody></table>"
      ],
      "text/plain": [
       "<pandas.io.formats.style.Styler at 0x1ad27abbbc8>"
      ]
     },
     "execution_count": 10,
     "metadata": {},
     "output_type": "execute_result"
    }
   ],
   "source": [
    "concatenated1 = pd.concat([baby_runtime,tiger_runtime, miniHallway_runtime, rock_runtime], axis=1)\n",
    "concatenated1.columns.values[0] = 'Crying Baby'\n",
    "concatenated1.columns.values[1] = 'Tiger'\n",
    "concatenated1.columns.values[2] = 'Mini Hallway'\n",
    "concatenated1.columns.values[3] = 'Rock Sample'\n",
    "\n",
    "concatenated1.style.format('{:.4f}').background_gradient(axis=0,cmap=\"Pastel2\").apply(\n",
    "    lambda col: ['font-weight:bold' if x==col.min() else ''\n",
    "                 for x in col])"
   ]
  },
  {
   "cell_type": "markdown",
   "metadata": {},
   "source": [
    "## Sum of Discounted Reward"
   ]
  },
  {
   "cell_type": "code",
   "execution_count": 11,
   "metadata": {},
   "outputs": [
    {
     "data": {
      "text/html": [
       "<style  type=\"text/css\" >\n",
       "#T_b5f21_row0_col0,#T_b5f21_row0_col2,#T_b5f21_row0_col3,#T_b5f21_row1_col0,#T_b5f21_row1_col2,#T_b5f21_row1_col3,#T_b5f21_row2_col1,#T_b5f21_row2_col3,#T_b5f21_row3_col1,#T_b5f21_row3_col2,#T_b5f21_row3_col3,#T_b5f21_row4_col0,#T_b5f21_row4_col2,#T_b5f21_row4_col3,#T_b5f21_row5_col0{\n",
       "            background-color:  #fbb4ae;\n",
       "            color:  #000000;\n",
       "        }#T_b5f21_row0_col1,#T_b5f21_row2_col0,#T_b5f21_row2_col2,#T_b5f21_row5_col2,#T_b5f21_row5_col3{\n",
       "            background-color:  #f2f2f2;\n",
       "            color:  #000000;\n",
       "            font-weight: bold;\n",
       "        }#T_b5f21_row1_col1,#T_b5f21_row4_col1,#T_b5f21_row5_col1{\n",
       "            background-color:  #f2f2f2;\n",
       "            color:  #000000;\n",
       "        }#T_b5f21_row3_col0{\n",
       "            background-color:  #e5d8bd;\n",
       "            color:  #000000;\n",
       "        }</style><table id=\"T_b5f21_\" ><thead>    <tr>        <th class=\"blank level0\" ></th>        <th class=\"col_heading level0 col0\" >Crying Baby</th>        <th class=\"col_heading level0 col1\" >Tiger</th>        <th class=\"col_heading level0 col2\" >Mini Hallway</th>        <th class=\"col_heading level0 col3\" >Rcok Sample</th>    </tr>    <tr>        <th class=\"index_name level0\" >package</th>        <th class=\"blank\" ></th>        <th class=\"blank\" ></th>        <th class=\"blank\" ></th>        <th class=\"blank\" ></th>    </tr></thead><tbody>\n",
       "                <tr>\n",
       "                        <th id=\"T_b5f21_level0_row0\" class=\"row_heading level0 row0\" >FIB</th>\n",
       "                        <td id=\"T_b5f21_row0_col0\" class=\"data row0 col0\" >-217110.0000</td>\n",
       "                        <td id=\"T_b5f21_row0_col1\" class=\"data row0 col1\" >41408.0000</td>\n",
       "                        <td id=\"T_b5f21_row0_col2\" class=\"data row0 col2\" >3.0000</td>\n",
       "                        <td id=\"T_b5f21_row0_col3\" class=\"data row0 col3\" >nan</td>\n",
       "            </tr>\n",
       "            <tr>\n",
       "                        <th id=\"T_b5f21_level0_row1\" class=\"row_heading level0 row1\" >PBVI</th>\n",
       "                        <td id=\"T_b5f21_row1_col0\" class=\"data row1 col0\" >-220363.0000</td>\n",
       "                        <td id=\"T_b5f21_row1_col1\" class=\"data row1 col1\" >38115.0000</td>\n",
       "                        <td id=\"T_b5f21_row1_col2\" class=\"data row1 col2\" >nan</td>\n",
       "                        <td id=\"T_b5f21_row1_col3\" class=\"data row1 col3\" >nan</td>\n",
       "            </tr>\n",
       "            <tr>\n",
       "                        <th id=\"T_b5f21_level0_row2\" class=\"row_heading level0 row2\" >POMCP</th>\n",
       "                        <td id=\"T_b5f21_row2_col0\" class=\"data row2 col0\" >-75864.0000</td>\n",
       "                        <td id=\"T_b5f21_row2_col1\" class=\"data row2 col1\" >-254048.0000</td>\n",
       "                        <td id=\"T_b5f21_row2_col2\" class=\"data row2 col2\" >10.0000</td>\n",
       "                        <td id=\"T_b5f21_row2_col3\" class=\"data row2 col3\" >2227.0000</td>\n",
       "            </tr>\n",
       "            <tr>\n",
       "                        <th id=\"T_b5f21_level0_row3\" class=\"row_heading level0 row3\" >POMCPOW</th>\n",
       "                        <td id=\"T_b5f21_row3_col0\" class=\"data row3 col0\" >-115277.0000</td>\n",
       "                        <td id=\"T_b5f21_row3_col1\" class=\"data row3 col1\" >-273947.0000</td>\n",
       "                        <td id=\"T_b5f21_row3_col2\" class=\"data row3 col2\" >nan</td>\n",
       "                        <td id=\"T_b5f21_row3_col3\" class=\"data row3 col3\" >2314.0000</td>\n",
       "            </tr>\n",
       "            <tr>\n",
       "                        <th id=\"T_b5f21_level0_row4\" class=\"row_heading level0 row4\" >QMDP</th>\n",
       "                        <td id=\"T_b5f21_row4_col0\" class=\"data row4 col0\" >-216254.0000</td>\n",
       "                        <td id=\"T_b5f21_row4_col1\" class=\"data row4 col1\" >37654.0000</td>\n",
       "                        <td id=\"T_b5f21_row4_col2\" class=\"data row4 col2\" >3.0000</td>\n",
       "                        <td id=\"T_b5f21_row4_col3\" class=\"data row4 col3\" >nan</td>\n",
       "            </tr>\n",
       "            <tr>\n",
       "                        <th id=\"T_b5f21_level0_row5\" class=\"row_heading level0 row5\" >SARSOP</th>\n",
       "                        <td id=\"T_b5f21_row5_col0\" class=\"data row5 col0\" >-218068.0000</td>\n",
       "                        <td id=\"T_b5f21_row5_col1\" class=\"data row5 col1\" >37964.0000</td>\n",
       "                        <td id=\"T_b5f21_row5_col2\" class=\"data row5 col2\" >10.0000</td>\n",
       "                        <td id=\"T_b5f21_row5_col3\" class=\"data row5 col3\" >4330.0000</td>\n",
       "            </tr>\n",
       "    </tbody></table>"
      ],
      "text/plain": [
       "<pandas.io.formats.style.Styler at 0x1ad27cf4508>"
      ]
     },
     "execution_count": 11,
     "metadata": {},
     "output_type": "execute_result"
    }
   ],
   "source": [
    "concatenated2 = pd.concat([ baby_sum_discounted, tiger_sum_discounted, miniHallway_sum_discounted, rock_sum_discounted], axis=1)\n",
    "concatenated2.columns.values[0] = 'Crying Baby' \n",
    "concatenated2.columns.values[1] = 'Tiger'\n",
    "concatenated2.columns.values[2] = 'Mini Hallway'\n",
    "concatenated2.columns.values[3] = 'Rcok Sample'\n",
    "\n",
    "concatenated2.style.format('{:.4f}').background_gradient(axis=0,cmap=\"Pastel1\").apply(\n",
    "    lambda col: ['font-weight:bold' if x==col.max() else ''\n",
    "                 for x in col])"
   ]
  },
  {
   "cell_type": "markdown",
   "metadata": {},
   "source": [
    "# summary"
   ]
  },
  {
   "cell_type": "code",
   "execution_count": 14,
   "metadata": {},
   "outputs": [
    {
     "data": {
      "text/html": [
       "<div>\n",
       "<style scoped>\n",
       "    .dataframe tbody tr th:only-of-type {\n",
       "        vertical-align: middle;\n",
       "    }\n",
       "\n",
       "    .dataframe tbody tr th {\n",
       "        vertical-align: top;\n",
       "    }\n",
       "\n",
       "    .dataframe thead tr th {\n",
       "        text-align: left;\n",
       "    }\n",
       "\n",
       "    .dataframe thead tr:last-of-type th {\n",
       "        text-align: right;\n",
       "    }\n",
       "</style>\n",
       "<table border=\"1\" class=\"dataframe\">\n",
       "  <thead>\n",
       "    <tr>\n",
       "      <th></th>\n",
       "      <th colspan=\"4\" halign=\"left\">Runtime</th>\n",
       "      <th colspan=\"4\" halign=\"left\">Reward</th>\n",
       "    </tr>\n",
       "    <tr>\n",
       "      <th></th>\n",
       "      <th>Crying Baby</th>\n",
       "      <th>Tiger</th>\n",
       "      <th>hallway</th>\n",
       "      <th>rock</th>\n",
       "      <th>Crying Baby</th>\n",
       "      <th>Tiger</th>\n",
       "      <th>hallway</th>\n",
       "      <th>rock</th>\n",
       "    </tr>\n",
       "    <tr>\n",
       "      <th>package</th>\n",
       "      <th></th>\n",
       "      <th></th>\n",
       "      <th></th>\n",
       "      <th></th>\n",
       "      <th></th>\n",
       "      <th></th>\n",
       "      <th></th>\n",
       "      <th></th>\n",
       "    </tr>\n",
       "  </thead>\n",
       "  <tbody>\n",
       "    <tr>\n",
       "      <th>FIB</th>\n",
       "      <td>0.3456</td>\n",
       "      <td>0.1779</td>\n",
       "      <td>0.1375</td>\n",
       "      <td>NaN</td>\n",
       "      <td>-217110</td>\n",
       "      <td>41408</td>\n",
       "      <td>3.0</td>\n",
       "      <td>NaN</td>\n",
       "    </tr>\n",
       "    <tr>\n",
       "      <th>PBVI</th>\n",
       "      <td>2.0789</td>\n",
       "      <td>0.4323</td>\n",
       "      <td>NaN</td>\n",
       "      <td>NaN</td>\n",
       "      <td>-220363</td>\n",
       "      <td>38115</td>\n",
       "      <td>NaN</td>\n",
       "      <td>NaN</td>\n",
       "    </tr>\n",
       "    <tr>\n",
       "      <th>POMCP</th>\n",
       "      <td>44.6098</td>\n",
       "      <td>163.0138</td>\n",
       "      <td>29.4376</td>\n",
       "      <td>0.8673</td>\n",
       "      <td>-75864</td>\n",
       "      <td>-254048</td>\n",
       "      <td>10.0</td>\n",
       "      <td>2227.0</td>\n",
       "    </tr>\n",
       "    <tr>\n",
       "      <th>POMCPOW</th>\n",
       "      <td>83.0015</td>\n",
       "      <td>704.4068</td>\n",
       "      <td>NaN</td>\n",
       "      <td>1.0411</td>\n",
       "      <td>-115277</td>\n",
       "      <td>-273947</td>\n",
       "      <td>NaN</td>\n",
       "      <td>2314.0</td>\n",
       "    </tr>\n",
       "    <tr>\n",
       "      <th>QMDP</th>\n",
       "      <td>0.1041</td>\n",
       "      <td>0.4524</td>\n",
       "      <td>0.1909</td>\n",
       "      <td>NaN</td>\n",
       "      <td>-216254</td>\n",
       "      <td>37654</td>\n",
       "      <td>3.0</td>\n",
       "      <td>NaN</td>\n",
       "    </tr>\n",
       "    <tr>\n",
       "      <th>SARSOP</th>\n",
       "      <td>0.3376</td>\n",
       "      <td>0.4874</td>\n",
       "      <td>0.2428</td>\n",
       "      <td>1.3159</td>\n",
       "      <td>-218068</td>\n",
       "      <td>37964</td>\n",
       "      <td>10.0</td>\n",
       "      <td>4330.0</td>\n",
       "    </tr>\n",
       "  </tbody>\n",
       "</table>\n",
       "</div>"
      ],
      "text/plain": [
       "            Runtime                                 Reward                  \\\n",
       "        Crying Baby     Tiger  hallway    rock Crying Baby   Tiger hallway   \n",
       "package                                                                      \n",
       "FIB          0.3456    0.1779   0.1375     NaN     -217110   41408     3.0   \n",
       "PBVI         2.0789    0.4323      NaN     NaN     -220363   38115     NaN   \n",
       "POMCP       44.6098  163.0138  29.4376  0.8673      -75864 -254048    10.0   \n",
       "POMCPOW     83.0015  704.4068      NaN  1.0411     -115277 -273947     NaN   \n",
       "QMDP         0.1041    0.4524   0.1909     NaN     -216254   37654     3.0   \n",
       "SARSOP       0.3376    0.4874   0.2428  1.3159     -218068   37964    10.0   \n",
       "\n",
       "                 \n",
       "           rock  \n",
       "package          \n",
       "FIB         NaN  \n",
       "PBVI        NaN  \n",
       "POMCP    2227.0  \n",
       "POMCPOW  2314.0  \n",
       "QMDP        NaN  \n",
       "SARSOP   4330.0  "
      ]
     },
     "execution_count": 14,
     "metadata": {},
     "output_type": "execute_result"
    }
   ],
   "source": [
    "y = [('Runtime','Crying Baby'), ('Runtime','Tiger'), \n",
    "     ('Runtime','hallway'), ('Runtime','rock'), \n",
    "     ('Reward','Crying Baby'), ('Reward','Tiger'),\n",
    "     ('Reward','hallway'), ('Reward','rock')]\n",
    "s =  pd.concat([concatenated1,concatenated2], axis=1)\n",
    "s.columns = pd.MultiIndex.from_tuples(y)\n",
    "s.style.format('{:.4f}').apply(\n",
    "    lambda col: ['font-weight:bold' if (\n",
    "         (x==col.min()and col.name in [('Runtime','Crying Baby'),('Runtime','Tiger'),('Runtime','hallway') ,('Runtime','rock')]) or\n",
    "         (x==col.max() and col.name in [ ('Reward','Crying Baby'), ('Reward','Tiger'),('Reward','hallway'), ('Reward', 'rock')])) else ''\n",
    "                 for x in col])\n",
    "s.to_csv(\"summary.csv\")\n",
    "s"
   ]
  }
 ],
 "metadata": {
  "kernelspec": {
   "display_name": "Python 3.7.6 64-bit",
   "language": "python",
   "name": "python3"
  },
  "language_info": {
   "codemirror_mode": {
    "name": "ipython",
    "version": 3
   },
   "file_extension": ".py",
   "mimetype": "text/x-python",
   "name": "python",
   "nbconvert_exporter": "python",
   "pygments_lexer": "ipython3",
   "version": "3.7.6"
  },
  "orig_nbformat": 4,
  "vscode": {
   "interpreter": {
    "hash": "12ead14085ee944fa78033d0b2fe0694b86af6c859d85943081f913fc60ad260"
   }
  }
 },
 "nbformat": 4,
 "nbformat_minor": 2
}
