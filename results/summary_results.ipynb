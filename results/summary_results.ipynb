{
 "cells": [
  {
   "cell_type": "markdown",
   "metadata": {},
   "source": [
    "# summary results for 8 problems"
   ]
  },
  {
   "cell_type": "code",
   "execution_count": 8,
   "metadata": {},
   "outputs": [],
   "source": [
    "import pandas as pd\n",
    "import numpy as np\n",
    "#\n",
    "# from math import sqrt\n",
    "import seaborn as sns\n",
    "\n",
    "import warnings\n",
    "warnings.filterwarnings('ignore')"
   ]
  },
  {
   "cell_type": "markdown",
   "metadata": {},
   "source": [
    "## Crying Baby\n",
    "\n",
    "runtime is the sum of 100 simulations, each simulation contains 1000 games"
   ]
  },
  {
   "cell_type": "code",
   "execution_count": 9,
   "metadata": {},
   "outputs": [
    {
     "data": {
      "text/html": [
       "<style  type=\"text/css\" >\n",
       "#T_16e42_row0_col0,#T_16e42_row1_col0,#T_16e42_row2_col0,#T_16e42_row2_col3,#T_16e42_row3_col0,#T_16e42_row3_col3,#T_16e42_row4_col0,#T_16e42_row4_col4,#T_16e42_row5_col0,#T_16e42_row5_col1,#T_16e42_row5_col2,#T_16e42_row5_col4{\n",
       "            background-color:  #f3f0ee;\n",
       "            color:  #000000;\n",
       "        }#T_16e42_row0_col1,#T_16e42_row0_col2{\n",
       "            background-color:  #f3eee7;\n",
       "            color:  #000000;\n",
       "        }#T_16e42_row0_col3,#T_16e42_row1_col3,#T_16e42_row4_col3{\n",
       "            background-color:  #ffa707;\n",
       "            color:  #000000;\n",
       "        }#T_16e42_row0_col4{\n",
       "            background-color:  #f3f0ee;\n",
       "            color:  #000000;\n",
       "            font-weight: bold;\n",
       "        }#T_16e42_row1_col1,#T_16e42_row1_col2{\n",
       "            background-color:  #f3ede6;\n",
       "            color:  #000000;\n",
       "        }#T_16e42_row1_col4{\n",
       "            background-color:  #f3ede5;\n",
       "            color:  #000000;\n",
       "        }#T_16e42_row2_col1,#T_16e42_row2_col4,#T_16e42_row3_col2,#T_16e42_row5_col3{\n",
       "            background-color:  #ffa500;\n",
       "            color:  #000000;\n",
       "        }#T_16e42_row2_col2,#T_16e42_row3_col1{\n",
       "            background-color:  #ffa500;\n",
       "            color:  #000000;\n",
       "            font-weight: bold;\n",
       "        }#T_16e42_row3_col4{\n",
       "            background-color:  #ffa501;\n",
       "            color:  #000000;\n",
       "        }#T_16e42_row4_col1,#T_16e42_row4_col2{\n",
       "            background-color:  #f3ede4;\n",
       "            color:  #000000;\n",
       "        }</style><table id=\"T_16e42_\" ><thead>    <tr>        <th class=\"blank level0\" ></th>        <th class=\"col_heading level0 col0\" >n_games</th>        <th class=\"col_heading level0 col1\" >sum_reward</th>        <th class=\"col_heading level0 col2\" >sum_discount_reward</th>        <th class=\"col_heading level0 col3\" >avg_steps_per_game</th>        <th class=\"col_heading level0 col4\" >runtime</th>    </tr>    <tr>        <th class=\"index_name level0\" >package</th>        <th class=\"blank\" ></th>        <th class=\"blank\" ></th>        <th class=\"blank\" ></th>        <th class=\"blank\" ></th>        <th class=\"blank\" ></th>    </tr></thead><tbody>\n",
       "                <tr>\n",
       "                        <th id=\"T_16e42_level0_row0\" class=\"row_heading level0 row0\" >FIB</th>\n",
       "                        <td id=\"T_16e42_row0_col0\" class=\"data row0 col0\" >10000.0000</td>\n",
       "                        <td id=\"T_16e42_row0_col1\" class=\"data row0 col1\" >-242615.0000</td>\n",
       "                        <td id=\"T_16e42_row0_col2\" class=\"data row0 col2\" >-218526.0000</td>\n",
       "                        <td id=\"T_16e42_row0_col3\" class=\"data row0 col3\" >133.9180</td>\n",
       "                        <td id=\"T_16e42_row0_col4\" class=\"data row0 col4\" >0.2776</td>\n",
       "            </tr>\n",
       "            <tr>\n",
       "                        <th id=\"T_16e42_level0_row1\" class=\"row_heading level0 row1\" >PBVI</th>\n",
       "                        <td id=\"T_16e42_row1_col0\" class=\"data row1 col0\" >10000.0000</td>\n",
       "                        <td id=\"T_16e42_row1_col1\" class=\"data row1 col1\" >-242015.0000</td>\n",
       "                        <td id=\"T_16e42_row1_col2\" class=\"data row1 col2\" >-217983.0000</td>\n",
       "                        <td id=\"T_16e42_row1_col3\" class=\"data row1 col3\" >133.6620</td>\n",
       "                        <td id=\"T_16e42_row1_col4\" class=\"data row1 col4\" >2.2155</td>\n",
       "            </tr>\n",
       "            <tr>\n",
       "                        <th id=\"T_16e42_level0_row2\" class=\"row_heading level0 row2\" >POMCP</th>\n",
       "                        <td id=\"T_16e42_row2_col0\" class=\"data row2 col0\" >10000.0000</td>\n",
       "                        <td id=\"T_16e42_row2_col1\" class=\"data row2 col1\" >-85310.0000</td>\n",
       "                        <td id=\"T_16e42_row2_col2\" class=\"data row2 col2\" >-76982.0000</td>\n",
       "                        <td id=\"T_16e42_row2_col3\" class=\"data row2 col3\" >30.9460</td>\n",
       "                        <td id=\"T_16e42_row2_col4\" class=\"data row2 col4\" >45.4318</td>\n",
       "            </tr>\n",
       "            <tr>\n",
       "                        <th id=\"T_16e42_level0_row3\" class=\"row_heading level0 row3\" >POMCPOW</th>\n",
       "                        <td id=\"T_16e42_row3_col0\" class=\"data row3 col0\" >10000.0000</td>\n",
       "                        <td id=\"T_16e42_row3_col1\" class=\"data row3 col1\" >-85280.0000</td>\n",
       "                        <td id=\"T_16e42_row3_col2\" class=\"data row3 col2\" >-77018.0000</td>\n",
       "                        <td id=\"T_16e42_row3_col3\" class=\"data row3 col3\" >30.6630</td>\n",
       "                        <td id=\"T_16e42_row3_col4\" class=\"data row3 col4\" >45.1166</td>\n",
       "            </tr>\n",
       "            <tr>\n",
       "                        <th id=\"T_16e42_level0_row4\" class=\"row_heading level0 row4\" >QMDP</th>\n",
       "                        <td id=\"T_16e42_row4_col0\" class=\"data row4 col0\" >10000.0000</td>\n",
       "                        <td id=\"T_16e42_row4_col1\" class=\"data row4 col1\" >-240575.0000</td>\n",
       "                        <td id=\"T_16e42_row4_col2\" class=\"data row4 col2\" >-216687.0000</td>\n",
       "                        <td id=\"T_16e42_row4_col3\" class=\"data row4 col3\" >133.6120</td>\n",
       "                        <td id=\"T_16e42_row4_col4\" class=\"data row4 col4\" >0.3086</td>\n",
       "            </tr>\n",
       "            <tr>\n",
       "                        <th id=\"T_16e42_level0_row5\" class=\"row_heading level0 row5\" >SARSOP</th>\n",
       "                        <td id=\"T_16e42_row5_col0\" class=\"data row5 col0\" >10000.0000</td>\n",
       "                        <td id=\"T_16e42_row5_col1\" class=\"data row5 col1\" >-248110.0000</td>\n",
       "                        <td id=\"T_16e42_row5_col2\" class=\"data row5 col2\" >-223494.0000</td>\n",
       "                        <td id=\"T_16e42_row5_col3\" class=\"data row5 col3\" >137.2820</td>\n",
       "                        <td id=\"T_16e42_row5_col4\" class=\"data row5 col4\" >0.3078</td>\n",
       "            </tr>\n",
       "    </tbody></table>"
      ],
      "text/plain": [
       "<pandas.io.formats.style.Styler at 0x216ab317f88>"
      ]
     },
     "execution_count": 9,
     "metadata": {},
     "output_type": "execute_result"
    }
   ],
   "source": [
    "df = pd.read_table(\"cryingBabyProblem.csv\",sep=',')\n",
    "\n",
    "cm = sns.light_palette(\"orange\", as_cmap=True)\n",
    "df2 = df.groupby([\"package\"]).sum()\n",
    "df2 = df2[[i for i in df2.columns if i not in ['id']]]\n",
    "df2.style.format('{:.4f}').background_gradient(cmap=cm).apply(\n",
    "    lambda col: ['font-weight:bold' \n",
    "                 if ((x==col.max() and col.name in [\"sum_reward\",\"sum_discount_reward\"\n",
    "                     ]) \n",
    "                     or (x==col.min() and col.name in [\"avg_steps\",\"runtime\"]))\n",
    "                 else '' \n",
    "                 for x in col])"
   ]
  },
  {
   "cell_type": "code",
   "execution_count": 10,
   "metadata": {},
   "outputs": [
    {
     "name": "stdout",
     "output_type": "stream",
     "text": [
      "package\n",
      "FIB         0.277649\n",
      "PBVI        2.215488\n",
      "POMCP      45.431776\n",
      "POMCPOW    45.116577\n",
      "QMDP        0.308612\n",
      "SARSOP      0.307757\n",
      "Name: runtime, dtype: float64\n",
      "package\n",
      "FIB       -218526\n",
      "PBVI      -217983\n",
      "POMCP      -76982\n",
      "POMCPOW    -77018\n",
      "QMDP      -216687\n",
      "SARSOP    -223494\n",
      "Name: sum_discount_reward, dtype: int64\n"
     ]
    }
   ],
   "source": [
    "baby_runtime = df2[\"runtime\"]\n",
    "print(baby_runtime)\n",
    "\n",
    "baby_sum_discounted = df2[\"sum_discount_reward\"]\n",
    "print(baby_sum_discounted)"
   ]
  },
  {
   "cell_type": "markdown",
   "metadata": {},
   "source": [
    "## Tiger\n",
    "\n",
    "runtime is the sum of 100 simulations, each simulation contains 1000 games"
   ]
  },
  {
   "cell_type": "code",
   "execution_count": 11,
   "metadata": {},
   "outputs": [
    {
     "data": {
      "text/html": [
       "<style  type=\"text/css\" >\n",
       "#T_df254_row0_col0,#T_df254_row1_col0,#T_df254_row1_col4,#T_df254_row2_col0,#T_df254_row3_col0,#T_df254_row3_col1,#T_df254_row3_col2,#T_df254_row3_col3,#T_df254_row4_col0,#T_df254_row4_col4,#T_df254_row5_col0,#T_df254_row5_col4{\n",
       "            background-color:  #f3f0ee;\n",
       "            color:  #000000;\n",
       "        }#T_df254_row0_col1,#T_df254_row0_col2{\n",
       "            background-color:  #ffa500;\n",
       "            color:  #000000;\n",
       "            font-weight: bold;\n",
       "        }#T_df254_row0_col3,#T_df254_row1_col1,#T_df254_row1_col2,#T_df254_row5_col1,#T_df254_row5_col2{\n",
       "            background-color:  #ffa602;\n",
       "            color:  #000000;\n",
       "        }#T_df254_row0_col4{\n",
       "            background-color:  #f3f0ee;\n",
       "            color:  #000000;\n",
       "            font-weight: bold;\n",
       "        }#T_df254_row1_col3{\n",
       "            background-color:  #ffa501;\n",
       "            color:  #000000;\n",
       "        }#T_df254_row2_col1{\n",
       "            background-color:  #f4ece0;\n",
       "            color:  #000000;\n",
       "        }#T_df254_row2_col2{\n",
       "            background-color:  #f4ebdf;\n",
       "            color:  #000000;\n",
       "        }#T_df254_row2_col3{\n",
       "            background-color:  #f3ece2;\n",
       "            color:  #000000;\n",
       "        }#T_df254_row2_col4{\n",
       "            background-color:  #f6dfb7;\n",
       "            color:  #000000;\n",
       "        }#T_df254_row3_col4,#T_df254_row4_col3,#T_df254_row5_col3{\n",
       "            background-color:  #ffa500;\n",
       "            color:  #000000;\n",
       "        }#T_df254_row4_col1,#T_df254_row4_col2{\n",
       "            background-color:  #ffa603;\n",
       "            color:  #000000;\n",
       "        }</style><table id=\"T_df254_\" ><thead>    <tr>        <th class=\"blank level0\" ></th>        <th class=\"col_heading level0 col0\" >n_games</th>        <th class=\"col_heading level0 col1\" >sum_reward</th>        <th class=\"col_heading level0 col2\" >sum_discount_reward</th>        <th class=\"col_heading level0 col3\" >avg_steps_per_game</th>        <th class=\"col_heading level0 col4\" >runtime</th>    </tr>    <tr>        <th class=\"index_name level0\" >package</th>        <th class=\"blank\" ></th>        <th class=\"blank\" ></th>        <th class=\"blank\" ></th>        <th class=\"blank\" ></th>        <th class=\"blank\" ></th>    </tr></thead><tbody>\n",
       "                <tr>\n",
       "                        <th id=\"T_df254_level0_row0\" class=\"row_heading level0 row0\" >FIB</th>\n",
       "                        <td id=\"T_df254_row0_col0\" class=\"data row0 col0\" >10000.0000</td>\n",
       "                        <td id=\"T_df254_row0_col1\" class=\"data row0 col1\" >43440.0000</td>\n",
       "                        <td id=\"T_df254_row0_col2\" class=\"data row0 col2\" >41408.0000</td>\n",
       "                        <td id=\"T_df254_row0_col3\" class=\"data row0 col3\" >36.7500</td>\n",
       "                        <td id=\"T_df254_row0_col4\" class=\"data row0 col4\" >0.1779</td>\n",
       "            </tr>\n",
       "            <tr>\n",
       "                        <th id=\"T_df254_level0_row1\" class=\"row_heading level0 row1\" >PBVI</th>\n",
       "                        <td id=\"T_df254_row1_col0\" class=\"data row1 col0\" >10000.0000</td>\n",
       "                        <td id=\"T_df254_row1_col1\" class=\"data row1 col1\" >39856.0000</td>\n",
       "                        <td id=\"T_df254_row1_col2\" class=\"data row1 col2\" >38115.0000</td>\n",
       "                        <td id=\"T_df254_row1_col3\" class=\"data row1 col3\" >36.8140</td>\n",
       "                        <td id=\"T_df254_row1_col4\" class=\"data row1 col4\" >0.4323</td>\n",
       "            </tr>\n",
       "            <tr>\n",
       "                        <th id=\"T_df254_level0_row2\" class=\"row_heading level0 row2\" >POMCP</th>\n",
       "                        <td id=\"T_df254_row2_col0\" class=\"data row2 col0\" >10000.0000</td>\n",
       "                        <td id=\"T_df254_row2_col1\" class=\"data row2 col1\" >-264424.0000</td>\n",
       "                        <td id=\"T_df254_row2_col2\" class=\"data row2 col2\" >-254048.0000</td>\n",
       "                        <td id=\"T_df254_row2_col3\" class=\"data row2 col3\" >21.7640</td>\n",
       "                        <td id=\"T_df254_row2_col4\" class=\"data row2 col4\" >163.0138</td>\n",
       "            </tr>\n",
       "            <tr>\n",
       "                        <th id=\"T_df254_level0_row3\" class=\"row_heading level0 row3\" >POMCPOW</th>\n",
       "                        <td id=\"T_df254_row3_col0\" class=\"data row3 col0\" >10000.0000</td>\n",
       "                        <td id=\"T_df254_row3_col1\" class=\"data row3 col1\" >-284511.0000</td>\n",
       "                        <td id=\"T_df254_row3_col2\" class=\"data row3 col2\" >-273947.0000</td>\n",
       "                        <td id=\"T_df254_row3_col3\" class=\"data row3 col3\" >20.9510</td>\n",
       "                        <td id=\"T_df254_row3_col4\" class=\"data row3 col4\" >704.4068</td>\n",
       "            </tr>\n",
       "            <tr>\n",
       "                        <th id=\"T_df254_level0_row4\" class=\"row_heading level0 row4\" >QMDP</th>\n",
       "                        <td id=\"T_df254_row4_col0\" class=\"data row4 col0\" >10000.0000</td>\n",
       "                        <td id=\"T_df254_row4_col1\" class=\"data row4 col1\" >39514.0000</td>\n",
       "                        <td id=\"T_df254_row4_col2\" class=\"data row4 col2\" >37654.0000</td>\n",
       "                        <td id=\"T_df254_row4_col3\" class=\"data row4 col3\" >36.9360</td>\n",
       "                        <td id=\"T_df254_row4_col4\" class=\"data row4 col4\" >0.4524</td>\n",
       "            </tr>\n",
       "            <tr>\n",
       "                        <th id=\"T_df254_level0_row5\" class=\"row_heading level0 row5\" >SARSOP</th>\n",
       "                        <td id=\"T_df254_row5_col0\" class=\"data row5 col0\" >10000.0000</td>\n",
       "                        <td id=\"T_df254_row5_col1\" class=\"data row5 col1\" >39850.0000</td>\n",
       "                        <td id=\"T_df254_row5_col2\" class=\"data row5 col2\" >37964.0000</td>\n",
       "                        <td id=\"T_df254_row5_col3\" class=\"data row5 col3\" >36.9300</td>\n",
       "                        <td id=\"T_df254_row5_col4\" class=\"data row5 col4\" >0.4874</td>\n",
       "            </tr>\n",
       "    </tbody></table>"
      ],
      "text/plain": [
       "<pandas.io.formats.style.Styler at 0x216ab334688>"
      ]
     },
     "execution_count": 11,
     "metadata": {},
     "output_type": "execute_result"
    }
   ],
   "source": [
    "df = pd.read_table(\"tigerProblem.csv\",sep=',')\n",
    "\n",
    "cm = sns.light_palette(\"orange\", as_cmap=True)\n",
    "df2 = df.groupby([\"package\"]).sum()\n",
    "df2 = df2[[i for i in df2.columns if i not in ['id']]]\n",
    "df2.style.format('{:.4f}').background_gradient(cmap=cm).apply(\n",
    "    lambda col: ['font-weight:bold' \n",
    "                 if ((x==col.max() and col.name in [\n",
    "                     \"num_correct_door\",\"sum_reward\",\"sum_discount_reward\"\n",
    "                     ]) \n",
    "                     or (x==col.min() and col.name in [\"num_wrong_door\",\"avg_steps\",\"runtime\"]))\n",
    "                 else '' \n",
    "                 for x in col])"
   ]
  },
  {
   "cell_type": "code",
   "execution_count": 12,
   "metadata": {},
   "outputs": [
    {
     "name": "stdout",
     "output_type": "stream",
     "text": [
      "package\n",
      "FIB          0.177854\n",
      "PBVI         0.432251\n",
      "POMCP      163.013804\n",
      "POMCPOW    704.406770\n",
      "QMDP         0.452426\n",
      "SARSOP       0.487360\n",
      "Name: runtime, dtype: float64\n",
      "package\n",
      "FIB         41408\n",
      "PBVI        38115\n",
      "POMCP     -254048\n",
      "POMCPOW   -273947\n",
      "QMDP        37654\n",
      "SARSOP      37964\n",
      "Name: sum_discount_reward, dtype: int64\n"
     ]
    }
   ],
   "source": [
    "tiger_runtime = df2[\"runtime\"]\n",
    "print(tiger_runtime)\n",
    "\n",
    "tiger_sum_discounted = df2[\"sum_discount_reward\"]\n",
    "print(tiger_sum_discounted)"
   ]
  },
  {
   "cell_type": "markdown",
   "metadata": {},
   "source": [
    "## Paint\n",
    "runtime is the sum of 100 simulations, each simulation contains 1000 games"
   ]
  },
  {
   "cell_type": "code",
   "execution_count": null,
   "metadata": {},
   "outputs": [],
   "source": []
  },
  {
   "cell_type": "code",
   "execution_count": null,
   "metadata": {},
   "outputs": [],
   "source": []
  },
  {
   "cell_type": "markdown",
   "metadata": {},
   "source": [
    "## Rock Sample\n",
    "\n",
    "runtime is the sum of 100 simulations, each simulation contains 1000 games"
   ]
  },
  {
   "cell_type": "code",
   "execution_count": null,
   "metadata": {},
   "outputs": [],
   "source": []
  },
  {
   "cell_type": "code",
   "execution_count": null,
   "metadata": {},
   "outputs": [],
   "source": []
  },
  {
   "cell_type": "markdown",
   "metadata": {},
   "source": [
    "## Query"
   ]
  },
  {
   "cell_type": "code",
   "execution_count": null,
   "metadata": {},
   "outputs": [],
   "source": []
  },
  {
   "cell_type": "code",
   "execution_count": null,
   "metadata": {},
   "outputs": [],
   "source": []
  },
  {
   "cell_type": "markdown",
   "metadata": {},
   "source": [
    "## Mini hallway\n",
    "\n",
    "Some error for problem setup"
   ]
  },
  {
   "cell_type": "code",
   "execution_count": 87,
   "metadata": {},
   "outputs": [
    {
     "data": {
      "text/html": [
       "<style  type=\"text/css\" >\n",
       "#T_e4b7b_row0_col0,#T_e4b7b_row0_col1,#T_e4b7b_row0_col2,#T_e4b7b_row0_col3,#T_e4b7b_row1_col0,#T_e4b7b_row1_col3,#T_e4b7b_row2_col0,#T_e4b7b_row2_col1,#T_e4b7b_row2_col2,#T_e4b7b_row2_col3,#T_e4b7b_row2_col4,#T_e4b7b_row3_col0,#T_e4b7b_row3_col3,#T_e4b7b_row3_col4{\n",
       "            background-color:  #f3f0ee;\n",
       "            color:  #000000;\n",
       "        }#T_e4b7b_row0_col4{\n",
       "            background-color:  #f3f0ee;\n",
       "            color:  #000000;\n",
       "            font-weight: bold;\n",
       "        }#T_e4b7b_row1_col1,#T_e4b7b_row1_col2,#T_e4b7b_row3_col1,#T_e4b7b_row3_col2{\n",
       "            background-color:  #ffa500;\n",
       "            color:  #000000;\n",
       "            font-weight: bold;\n",
       "        }#T_e4b7b_row1_col4{\n",
       "            background-color:  #ffa500;\n",
       "            color:  #000000;\n",
       "        }</style><table id=\"T_e4b7b_\" ><thead>    <tr>        <th class=\"blank level0\" ></th>        <th class=\"col_heading level0 col0\" >n_games</th>        <th class=\"col_heading level0 col1\" >sum_reward</th>        <th class=\"col_heading level0 col2\" >sum_discount_reward</th>        <th class=\"col_heading level0 col3\" >avg_steps_per_game</th>        <th class=\"col_heading level0 col4\" >runtime</th>    </tr>    <tr>        <th class=\"index_name level0\" >package</th>        <th class=\"blank\" ></th>        <th class=\"blank\" ></th>        <th class=\"blank\" ></th>        <th class=\"blank\" ></th>        <th class=\"blank\" ></th>    </tr></thead><tbody>\n",
       "                <tr>\n",
       "                        <th id=\"T_e4b7b_level0_row0\" class=\"row_heading level0 row0\" >FIB</th>\n",
       "                        <td id=\"T_e4b7b_row0_col0\" class=\"data row0 col0\" >10000.0000</td>\n",
       "                        <td id=\"T_e4b7b_row0_col1\" class=\"data row0 col1\" >3.0000</td>\n",
       "                        <td id=\"T_e4b7b_row0_col2\" class=\"data row0 col2\" >3.0000</td>\n",
       "                        <td id=\"T_e4b7b_row0_col3\" class=\"data row0 col3\" >10.0000</td>\n",
       "                        <td id=\"T_e4b7b_row0_col4\" class=\"data row0 col4\" >0.1375</td>\n",
       "            </tr>\n",
       "            <tr>\n",
       "                        <th id=\"T_e4b7b_level0_row1\" class=\"row_heading level0 row1\" >POMCP</th>\n",
       "                        <td id=\"T_e4b7b_row1_col0\" class=\"data row1 col0\" >10000.0000</td>\n",
       "                        <td id=\"T_e4b7b_row1_col1\" class=\"data row1 col1\" >10.0000</td>\n",
       "                        <td id=\"T_e4b7b_row1_col2\" class=\"data row1 col2\" >10.0000</td>\n",
       "                        <td id=\"T_e4b7b_row1_col3\" class=\"data row1 col3\" >10.0000</td>\n",
       "                        <td id=\"T_e4b7b_row1_col4\" class=\"data row1 col4\" >29.4376</td>\n",
       "            </tr>\n",
       "            <tr>\n",
       "                        <th id=\"T_e4b7b_level0_row2\" class=\"row_heading level0 row2\" >QMDP</th>\n",
       "                        <td id=\"T_e4b7b_row2_col0\" class=\"data row2 col0\" >10000.0000</td>\n",
       "                        <td id=\"T_e4b7b_row2_col1\" class=\"data row2 col1\" >3.0000</td>\n",
       "                        <td id=\"T_e4b7b_row2_col2\" class=\"data row2 col2\" >3.0000</td>\n",
       "                        <td id=\"T_e4b7b_row2_col3\" class=\"data row2 col3\" >10.0000</td>\n",
       "                        <td id=\"T_e4b7b_row2_col4\" class=\"data row2 col4\" >0.1909</td>\n",
       "            </tr>\n",
       "            <tr>\n",
       "                        <th id=\"T_e4b7b_level0_row3\" class=\"row_heading level0 row3\" >SARSOP</th>\n",
       "                        <td id=\"T_e4b7b_row3_col0\" class=\"data row3 col0\" >10000.0000</td>\n",
       "                        <td id=\"T_e4b7b_row3_col1\" class=\"data row3 col1\" >10.0000</td>\n",
       "                        <td id=\"T_e4b7b_row3_col2\" class=\"data row3 col2\" >10.0000</td>\n",
       "                        <td id=\"T_e4b7b_row3_col3\" class=\"data row3 col3\" >10.0000</td>\n",
       "                        <td id=\"T_e4b7b_row3_col4\" class=\"data row3 col4\" >0.2428</td>\n",
       "            </tr>\n",
       "    </tbody></table>"
      ],
      "text/plain": [
       "<pandas.io.formats.style.Styler at 0x216ab4e4f08>"
      ]
     },
     "execution_count": 87,
     "metadata": {},
     "output_type": "execute_result"
    }
   ],
   "source": [
    "df = pd.read_table(\"miniHallwayProblem.csv\",sep=',')\n",
    "\n",
    "cm = sns.light_palette(\"orange\", as_cmap=True)\n",
    "df2 = df.groupby([\"package\"]).sum()\n",
    "df2 = df2[[i for i in df2.columns if i not in ['id']]]\n",
    "df2.style.format('{:.4f}').background_gradient(cmap=cm).apply(\n",
    "    lambda col: ['font-weight:bold' \n",
    "                 if ((x==col.max() and col.name in [\n",
    "                     \"num_correct_door\",\"sum_reward\",\"sum_discount_reward\"\n",
    "                     ]) \n",
    "                     or (x==col.min() and col.name in [\"num_wrong_door\",\"avg_steps\",\"runtime\"]))\n",
    "                 else '' \n",
    "                 for x in col])"
   ]
  },
  {
   "cell_type": "code",
   "execution_count": 88,
   "metadata": {},
   "outputs": [
    {
     "name": "stdout",
     "output_type": "stream",
     "text": [
      "package\n",
      "FIB        0.137481\n",
      "POMCP     29.437608\n",
      "QMDP       0.190867\n",
      "SARSOP     0.242809\n",
      "Name: runtime, dtype: float64\n",
      "package\n",
      "FIB        3\n",
      "POMCP     10\n",
      "QMDP       3\n",
      "SARSOP    10\n",
      "Name: sum_discount_reward, dtype: int64\n"
     ]
    }
   ],
   "source": [
    "miniHallway_runtime = df2[\"runtime\"]\n",
    "print(miniHallway_runtime)\n",
    "\n",
    "miniHallway_sum_discounted = df2[\"sum_discount_reward\"]\n",
    "print(miniHallway_sum_discounted)"
   ]
  },
  {
   "cell_type": "markdown",
   "metadata": {},
   "source": [
    "## Simple grid world (3 $\\times$ 3)\n"
   ]
  },
  {
   "cell_type": "code",
   "execution_count": null,
   "metadata": {},
   "outputs": [],
   "source": []
  },
  {
   "cell_type": "code",
   "execution_count": null,
   "metadata": {},
   "outputs": [],
   "source": []
  },
  {
   "cell_type": "markdown",
   "metadata": {},
   "source": [
    "## T-Maze problem (arm length =3)"
   ]
  },
  {
   "cell_type": "code",
   "execution_count": null,
   "metadata": {},
   "outputs": [],
   "source": []
  },
  {
   "cell_type": "code",
   "execution_count": null,
   "metadata": {},
   "outputs": [],
   "source": []
  },
  {
   "cell_type": "markdown",
   "metadata": {},
   "source": [
    "# Summary"
   ]
  },
  {
   "cell_type": "markdown",
   "metadata": {},
   "source": [
    "## Runtime"
   ]
  },
  {
   "cell_type": "code",
   "execution_count": 89,
   "metadata": {},
   "outputs": [
    {
     "data": {
      "text/html": [
       "<style  type=\"text/css\" >\n",
       "#T_e906d_row0_col0,#T_e906d_row0_col1,#T_e906d_row0_col2{\n",
       "            background-color:  #b3e2cd;\n",
       "            color:  #000000;\n",
       "            font-weight: bold;\n",
       "        }#T_e906d_row1_col0,#T_e906d_row1_col1,#T_e906d_row1_col2,#T_e906d_row3_col2,#T_e906d_row4_col0,#T_e906d_row4_col1,#T_e906d_row4_col2,#T_e906d_row5_col0,#T_e906d_row5_col1,#T_e906d_row5_col2{\n",
       "            background-color:  #b3e2cd;\n",
       "            color:  #000000;\n",
       "        }#T_e906d_row2_col0,#T_e906d_row2_col2,#T_e906d_row3_col0,#T_e906d_row3_col1{\n",
       "            background-color:  #cccccc;\n",
       "            color:  #000000;\n",
       "        }#T_e906d_row2_col1{\n",
       "            background-color:  #fdcdac;\n",
       "            color:  #000000;\n",
       "        }</style><table id=\"T_e906d_\" ><thead>    <tr>        <th class=\"blank level0\" ></th>        <th class=\"col_heading level0 col0\" >Crying Baby</th>        <th class=\"col_heading level0 col1\" >Tiger</th>        <th class=\"col_heading level0 col2\" >Mini Hallway</th>    </tr>    <tr>        <th class=\"index_name level0\" >package</th>        <th class=\"blank\" ></th>        <th class=\"blank\" ></th>        <th class=\"blank\" ></th>    </tr></thead><tbody>\n",
       "                <tr>\n",
       "                        <th id=\"T_e906d_level0_row0\" class=\"row_heading level0 row0\" >FIB</th>\n",
       "                        <td id=\"T_e906d_row0_col0\" class=\"data row0 col0\" >0.2776</td>\n",
       "                        <td id=\"T_e906d_row0_col1\" class=\"data row0 col1\" >0.1779</td>\n",
       "                        <td id=\"T_e906d_row0_col2\" class=\"data row0 col2\" >0.1375</td>\n",
       "            </tr>\n",
       "            <tr>\n",
       "                        <th id=\"T_e906d_level0_row1\" class=\"row_heading level0 row1\" >PBVI</th>\n",
       "                        <td id=\"T_e906d_row1_col0\" class=\"data row1 col0\" >2.2155</td>\n",
       "                        <td id=\"T_e906d_row1_col1\" class=\"data row1 col1\" >0.4323</td>\n",
       "                        <td id=\"T_e906d_row1_col2\" class=\"data row1 col2\" >nan</td>\n",
       "            </tr>\n",
       "            <tr>\n",
       "                        <th id=\"T_e906d_level0_row2\" class=\"row_heading level0 row2\" >POMCP</th>\n",
       "                        <td id=\"T_e906d_row2_col0\" class=\"data row2 col0\" >45.4318</td>\n",
       "                        <td id=\"T_e906d_row2_col1\" class=\"data row2 col1\" >163.0138</td>\n",
       "                        <td id=\"T_e906d_row2_col2\" class=\"data row2 col2\" >29.4376</td>\n",
       "            </tr>\n",
       "            <tr>\n",
       "                        <th id=\"T_e906d_level0_row3\" class=\"row_heading level0 row3\" >POMCPOW</th>\n",
       "                        <td id=\"T_e906d_row3_col0\" class=\"data row3 col0\" >45.1166</td>\n",
       "                        <td id=\"T_e906d_row3_col1\" class=\"data row3 col1\" >704.4068</td>\n",
       "                        <td id=\"T_e906d_row3_col2\" class=\"data row3 col2\" >nan</td>\n",
       "            </tr>\n",
       "            <tr>\n",
       "                        <th id=\"T_e906d_level0_row4\" class=\"row_heading level0 row4\" >QMDP</th>\n",
       "                        <td id=\"T_e906d_row4_col0\" class=\"data row4 col0\" >0.3086</td>\n",
       "                        <td id=\"T_e906d_row4_col1\" class=\"data row4 col1\" >0.4524</td>\n",
       "                        <td id=\"T_e906d_row4_col2\" class=\"data row4 col2\" >0.1909</td>\n",
       "            </tr>\n",
       "            <tr>\n",
       "                        <th id=\"T_e906d_level0_row5\" class=\"row_heading level0 row5\" >SARSOP</th>\n",
       "                        <td id=\"T_e906d_row5_col0\" class=\"data row5 col0\" >0.3078</td>\n",
       "                        <td id=\"T_e906d_row5_col1\" class=\"data row5 col1\" >0.4874</td>\n",
       "                        <td id=\"T_e906d_row5_col2\" class=\"data row5 col2\" >0.2428</td>\n",
       "            </tr>\n",
       "    </tbody></table>"
      ],
      "text/plain": [
       "<pandas.io.formats.style.Styler at 0x216ab889a48>"
      ]
     },
     "execution_count": 89,
     "metadata": {},
     "output_type": "execute_result"
    }
   ],
   "source": [
    "concatenated1 = pd.concat([baby_runtime,tiger_runtime, miniHallway_runtime], axis=1)\n",
    "concatenated1.columns.values[0] = 'Crying Baby'\n",
    "concatenated1.columns.values[1] = 'Tiger'\n",
    "concatenated1.columns.values[2] = 'Mini Hallway'\n",
    "\n",
    "concatenated1.style.format('{:.4f}').background_gradient(axis=0,cmap=\"Pastel2\").apply(\n",
    "    lambda col: ['font-weight:bold' if x==col.min() else ''\n",
    "                 for x in col])"
   ]
  },
  {
   "cell_type": "markdown",
   "metadata": {},
   "source": [
    "## Sum of Discounted Reward"
   ]
  },
  {
   "cell_type": "code",
   "execution_count": 90,
   "metadata": {},
   "outputs": [
    {
     "data": {
      "text/html": [
       "<style  type=\"text/css\" >\n",
       "#T_ed8b4_row0_col0,#T_ed8b4_row0_col2,#T_ed8b4_row1_col0,#T_ed8b4_row1_col2,#T_ed8b4_row2_col1,#T_ed8b4_row3_col1,#T_ed8b4_row3_col2,#T_ed8b4_row4_col0,#T_ed8b4_row4_col2,#T_ed8b4_row5_col0{\n",
       "            background-color:  #fbb4ae;\n",
       "            color:  #000000;\n",
       "        }#T_ed8b4_row0_col1,#T_ed8b4_row2_col0,#T_ed8b4_row2_col2,#T_ed8b4_row5_col2{\n",
       "            background-color:  #f2f2f2;\n",
       "            color:  #000000;\n",
       "            font-weight: bold;\n",
       "        }#T_ed8b4_row1_col1,#T_ed8b4_row3_col0,#T_ed8b4_row4_col1,#T_ed8b4_row5_col1{\n",
       "            background-color:  #f2f2f2;\n",
       "            color:  #000000;\n",
       "        }</style><table id=\"T_ed8b4_\" ><thead>    <tr>        <th class=\"blank level0\" ></th>        <th class=\"col_heading level0 col0\" >Crying Baby</th>        <th class=\"col_heading level0 col1\" >Tiger</th>        <th class=\"col_heading level0 col2\" >Mini Hallway</th>    </tr>    <tr>        <th class=\"index_name level0\" >package</th>        <th class=\"blank\" ></th>        <th class=\"blank\" ></th>        <th class=\"blank\" ></th>    </tr></thead><tbody>\n",
       "                <tr>\n",
       "                        <th id=\"T_ed8b4_level0_row0\" class=\"row_heading level0 row0\" >FIB</th>\n",
       "                        <td id=\"T_ed8b4_row0_col0\" class=\"data row0 col0\" >-218526.0000</td>\n",
       "                        <td id=\"T_ed8b4_row0_col1\" class=\"data row0 col1\" >41408.0000</td>\n",
       "                        <td id=\"T_ed8b4_row0_col2\" class=\"data row0 col2\" >3.0000</td>\n",
       "            </tr>\n",
       "            <tr>\n",
       "                        <th id=\"T_ed8b4_level0_row1\" class=\"row_heading level0 row1\" >PBVI</th>\n",
       "                        <td id=\"T_ed8b4_row1_col0\" class=\"data row1 col0\" >-217983.0000</td>\n",
       "                        <td id=\"T_ed8b4_row1_col1\" class=\"data row1 col1\" >38115.0000</td>\n",
       "                        <td id=\"T_ed8b4_row1_col2\" class=\"data row1 col2\" >nan</td>\n",
       "            </tr>\n",
       "            <tr>\n",
       "                        <th id=\"T_ed8b4_level0_row2\" class=\"row_heading level0 row2\" >POMCP</th>\n",
       "                        <td id=\"T_ed8b4_row2_col0\" class=\"data row2 col0\" >-76982.0000</td>\n",
       "                        <td id=\"T_ed8b4_row2_col1\" class=\"data row2 col1\" >-254048.0000</td>\n",
       "                        <td id=\"T_ed8b4_row2_col2\" class=\"data row2 col2\" >10.0000</td>\n",
       "            </tr>\n",
       "            <tr>\n",
       "                        <th id=\"T_ed8b4_level0_row3\" class=\"row_heading level0 row3\" >POMCPOW</th>\n",
       "                        <td id=\"T_ed8b4_row3_col0\" class=\"data row3 col0\" >-77018.0000</td>\n",
       "                        <td id=\"T_ed8b4_row3_col1\" class=\"data row3 col1\" >-273947.0000</td>\n",
       "                        <td id=\"T_ed8b4_row3_col2\" class=\"data row3 col2\" >nan</td>\n",
       "            </tr>\n",
       "            <tr>\n",
       "                        <th id=\"T_ed8b4_level0_row4\" class=\"row_heading level0 row4\" >QMDP</th>\n",
       "                        <td id=\"T_ed8b4_row4_col0\" class=\"data row4 col0\" >-216687.0000</td>\n",
       "                        <td id=\"T_ed8b4_row4_col1\" class=\"data row4 col1\" >37654.0000</td>\n",
       "                        <td id=\"T_ed8b4_row4_col2\" class=\"data row4 col2\" >3.0000</td>\n",
       "            </tr>\n",
       "            <tr>\n",
       "                        <th id=\"T_ed8b4_level0_row5\" class=\"row_heading level0 row5\" >SARSOP</th>\n",
       "                        <td id=\"T_ed8b4_row5_col0\" class=\"data row5 col0\" >-223494.0000</td>\n",
       "                        <td id=\"T_ed8b4_row5_col1\" class=\"data row5 col1\" >37964.0000</td>\n",
       "                        <td id=\"T_ed8b4_row5_col2\" class=\"data row5 col2\" >10.0000</td>\n",
       "            </tr>\n",
       "    </tbody></table>"
      ],
      "text/plain": [
       "<pandas.io.formats.style.Styler at 0x216ab8ec2c8>"
      ]
     },
     "execution_count": 90,
     "metadata": {},
     "output_type": "execute_result"
    }
   ],
   "source": [
    "concatenated2 = pd.concat([ baby_sum_discounted, tiger_sum_discounted, miniHallway_sum_discounted], axis=1)\n",
    "concatenated2.columns.values[0] = 'Crying Baby' \n",
    "concatenated2.columns.values[1] = 'Tiger'\n",
    "concatenated2.columns.values[2] = 'Mini Hallway'\n",
    "\n",
    "concatenated2.style.format('{:.4f}').background_gradient(axis=0,cmap=\"Pastel1\").apply(\n",
    "    lambda col: ['font-weight:bold' if x==col.max() else ''\n",
    "                 for x in col])"
   ]
  },
  {
   "cell_type": "markdown",
   "metadata": {},
   "source": [
    "# summary 1\n",
    "\n",
    "this one looks better "
   ]
  },
  {
   "cell_type": "code",
   "execution_count": 85,
   "metadata": {},
   "outputs": [
    {
     "data": {
      "text/html": [
       "<style  type=\"text/css\" >\n",
       "#T_263fd_row0_col0,#T_263fd_row0_col1,#T_263fd_row0_col3,#T_263fd_row2_col2{\n",
       "            font-weight: bold;\n",
       "        }</style><table id=\"T_263fd_\" ><thead>    <tr>        <th class=\"blank level0\" ></th>        <th class=\"col_heading level0 col0\" colspan=\"2\">Runtime</th>        <th class=\"col_heading level0 col2\" colspan=\"2\">Reward</th>    </tr>    <tr>        <th class=\"blank level1\" ></th>        <th class=\"col_heading level1 col0\" >Crying Baby</th>        <th class=\"col_heading level1 col1\" >Tiger</th>        <th class=\"col_heading level1 col2\" >Crying Baby</th>        <th class=\"col_heading level1 col3\" >Tiger</th>    </tr>    <tr>        <th class=\"index_name level0\" >package</th>        <th class=\"blank\" ></th>        <th class=\"blank\" ></th>        <th class=\"blank\" ></th>        <th class=\"blank\" ></th>    </tr></thead><tbody>\n",
       "                <tr>\n",
       "                        <th id=\"T_263fd_level0_row0\" class=\"row_heading level0 row0\" >FIB</th>\n",
       "                        <td id=\"T_263fd_row0_col0\" class=\"data row0 col0\" >0.2776</td>\n",
       "                        <td id=\"T_263fd_row0_col1\" class=\"data row0 col1\" >0.1779</td>\n",
       "                        <td id=\"T_263fd_row0_col2\" class=\"data row0 col2\" >-218526.0000</td>\n",
       "                        <td id=\"T_263fd_row0_col3\" class=\"data row0 col3\" >41408.0000</td>\n",
       "            </tr>\n",
       "            <tr>\n",
       "                        <th id=\"T_263fd_level0_row1\" class=\"row_heading level0 row1\" >PBVI</th>\n",
       "                        <td id=\"T_263fd_row1_col0\" class=\"data row1 col0\" >2.2155</td>\n",
       "                        <td id=\"T_263fd_row1_col1\" class=\"data row1 col1\" >0.4323</td>\n",
       "                        <td id=\"T_263fd_row1_col2\" class=\"data row1 col2\" >-217983.0000</td>\n",
       "                        <td id=\"T_263fd_row1_col3\" class=\"data row1 col3\" >38115.0000</td>\n",
       "            </tr>\n",
       "            <tr>\n",
       "                        <th id=\"T_263fd_level0_row2\" class=\"row_heading level0 row2\" >POMCP</th>\n",
       "                        <td id=\"T_263fd_row2_col0\" class=\"data row2 col0\" >45.4318</td>\n",
       "                        <td id=\"T_263fd_row2_col1\" class=\"data row2 col1\" >163.0138</td>\n",
       "                        <td id=\"T_263fd_row2_col2\" class=\"data row2 col2\" >-76982.0000</td>\n",
       "                        <td id=\"T_263fd_row2_col3\" class=\"data row2 col3\" >-254048.0000</td>\n",
       "            </tr>\n",
       "            <tr>\n",
       "                        <th id=\"T_263fd_level0_row3\" class=\"row_heading level0 row3\" >POMCPOW</th>\n",
       "                        <td id=\"T_263fd_row3_col0\" class=\"data row3 col0\" >45.1166</td>\n",
       "                        <td id=\"T_263fd_row3_col1\" class=\"data row3 col1\" >704.4068</td>\n",
       "                        <td id=\"T_263fd_row3_col2\" class=\"data row3 col2\" >-77018.0000</td>\n",
       "                        <td id=\"T_263fd_row3_col3\" class=\"data row3 col3\" >-273947.0000</td>\n",
       "            </tr>\n",
       "            <tr>\n",
       "                        <th id=\"T_263fd_level0_row4\" class=\"row_heading level0 row4\" >QMDP</th>\n",
       "                        <td id=\"T_263fd_row4_col0\" class=\"data row4 col0\" >0.3086</td>\n",
       "                        <td id=\"T_263fd_row4_col1\" class=\"data row4 col1\" >0.4524</td>\n",
       "                        <td id=\"T_263fd_row4_col2\" class=\"data row4 col2\" >-216687.0000</td>\n",
       "                        <td id=\"T_263fd_row4_col3\" class=\"data row4 col3\" >37654.0000</td>\n",
       "            </tr>\n",
       "            <tr>\n",
       "                        <th id=\"T_263fd_level0_row5\" class=\"row_heading level0 row5\" >SARSOP</th>\n",
       "                        <td id=\"T_263fd_row5_col0\" class=\"data row5 col0\" >0.3078</td>\n",
       "                        <td id=\"T_263fd_row5_col1\" class=\"data row5 col1\" >0.4874</td>\n",
       "                        <td id=\"T_263fd_row5_col2\" class=\"data row5 col2\" >-223494.0000</td>\n",
       "                        <td id=\"T_263fd_row5_col3\" class=\"data row5 col3\" >37964.0000</td>\n",
       "            </tr>\n",
       "    </tbody></table>"
      ],
      "text/plain": [
       "<pandas.io.formats.style.Styler at 0x216ab8ce788>"
      ]
     },
     "execution_count": 85,
     "metadata": {},
     "output_type": "execute_result"
    }
   ],
   "source": [
    "y = [('Runtime','Crying Baby'), ('Runtime','Tiger'), \n",
    "     ('Reward','Crying Baby'), ('Reward','Tiger')]\n",
    "s =  pd.concat([concatenated1,concatenated2], axis=1)\n",
    "s.columns = pd.MultiIndex.from_tuples(y)\n",
    "s.style.format('{:.4f}').apply(\n",
    "    lambda col: ['font-weight:bold' if (\n",
    "         (x==col.min()and col.name in [('Runtime','Crying Baby'),('Runtime','Tiger')]) or\n",
    "         (x==col.max() and col.name in [ ('Reward','Crying Baby'), ('Reward','Tiger')])) else ''\n",
    "                 for x in col])"
   ]
  },
  {
   "cell_type": "markdown",
   "metadata": {},
   "source": [
    "# summary 2\n"
   ]
  },
  {
   "cell_type": "code",
   "execution_count": 86,
   "metadata": {},
   "outputs": [
    {
     "data": {
      "text/html": [
       "<style  type=\"text/css\" >\n",
       "#T_30616_row0_col0,#T_30616_row0_col2,#T_30616_row0_col3,#T_30616_row2_col1{\n",
       "            font-weight: bold;\n",
       "        }</style><table id=\"T_30616_\" ><thead>    <tr>        <th class=\"blank level0\" ></th>        <th class=\"col_heading level0 col0\" colspan=\"2\">Crying Baby</th>        <th class=\"col_heading level0 col2\" colspan=\"2\">Tiger</th>    </tr>    <tr>        <th class=\"blank level1\" ></th>        <th class=\"col_heading level1 col0\" >Runtime</th>        <th class=\"col_heading level1 col1\" >Reward</th>        <th class=\"col_heading level1 col2\" >Runtime</th>        <th class=\"col_heading level1 col3\" >Reward</th>    </tr>    <tr>        <th class=\"index_name level0\" >package</th>        <th class=\"blank\" ></th>        <th class=\"blank\" ></th>        <th class=\"blank\" ></th>        <th class=\"blank\" ></th>    </tr></thead><tbody>\n",
       "                <tr>\n",
       "                        <th id=\"T_30616_level0_row0\" class=\"row_heading level0 row0\" >FIB</th>\n",
       "                        <td id=\"T_30616_row0_col0\" class=\"data row0 col0\" >0.2776</td>\n",
       "                        <td id=\"T_30616_row0_col1\" class=\"data row0 col1\" >-218526.0000</td>\n",
       "                        <td id=\"T_30616_row0_col2\" class=\"data row0 col2\" >0.1779</td>\n",
       "                        <td id=\"T_30616_row0_col3\" class=\"data row0 col3\" >41408.0000</td>\n",
       "            </tr>\n",
       "            <tr>\n",
       "                        <th id=\"T_30616_level0_row1\" class=\"row_heading level0 row1\" >PBVI</th>\n",
       "                        <td id=\"T_30616_row1_col0\" class=\"data row1 col0\" >2.2155</td>\n",
       "                        <td id=\"T_30616_row1_col1\" class=\"data row1 col1\" >-217983.0000</td>\n",
       "                        <td id=\"T_30616_row1_col2\" class=\"data row1 col2\" >0.4323</td>\n",
       "                        <td id=\"T_30616_row1_col3\" class=\"data row1 col3\" >38115.0000</td>\n",
       "            </tr>\n",
       "            <tr>\n",
       "                        <th id=\"T_30616_level0_row2\" class=\"row_heading level0 row2\" >POMCP</th>\n",
       "                        <td id=\"T_30616_row2_col0\" class=\"data row2 col0\" >45.4318</td>\n",
       "                        <td id=\"T_30616_row2_col1\" class=\"data row2 col1\" >-76982.0000</td>\n",
       "                        <td id=\"T_30616_row2_col2\" class=\"data row2 col2\" >163.0138</td>\n",
       "                        <td id=\"T_30616_row2_col3\" class=\"data row2 col3\" >-254048.0000</td>\n",
       "            </tr>\n",
       "            <tr>\n",
       "                        <th id=\"T_30616_level0_row3\" class=\"row_heading level0 row3\" >POMCPOW</th>\n",
       "                        <td id=\"T_30616_row3_col0\" class=\"data row3 col0\" >45.1166</td>\n",
       "                        <td id=\"T_30616_row3_col1\" class=\"data row3 col1\" >-77018.0000</td>\n",
       "                        <td id=\"T_30616_row3_col2\" class=\"data row3 col2\" >704.4068</td>\n",
       "                        <td id=\"T_30616_row3_col3\" class=\"data row3 col3\" >-273947.0000</td>\n",
       "            </tr>\n",
       "            <tr>\n",
       "                        <th id=\"T_30616_level0_row4\" class=\"row_heading level0 row4\" >QMDP</th>\n",
       "                        <td id=\"T_30616_row4_col0\" class=\"data row4 col0\" >0.3086</td>\n",
       "                        <td id=\"T_30616_row4_col1\" class=\"data row4 col1\" >-216687.0000</td>\n",
       "                        <td id=\"T_30616_row4_col2\" class=\"data row4 col2\" >0.4524</td>\n",
       "                        <td id=\"T_30616_row4_col3\" class=\"data row4 col3\" >37654.0000</td>\n",
       "            </tr>\n",
       "            <tr>\n",
       "                        <th id=\"T_30616_level0_row5\" class=\"row_heading level0 row5\" >SARSOP</th>\n",
       "                        <td id=\"T_30616_row5_col0\" class=\"data row5 col0\" >0.3078</td>\n",
       "                        <td id=\"T_30616_row5_col1\" class=\"data row5 col1\" >-223494.0000</td>\n",
       "                        <td id=\"T_30616_row5_col2\" class=\"data row5 col2\" >0.4874</td>\n",
       "                        <td id=\"T_30616_row5_col3\" class=\"data row5 col3\" >37964.0000</td>\n",
       "            </tr>\n",
       "    </tbody></table>"
      ],
      "text/plain": [
       "<pandas.io.formats.style.Styler at 0x216ab8c4988>"
      ]
     },
     "execution_count": 86,
     "metadata": {},
     "output_type": "execute_result"
    }
   ],
   "source": [
    "concatenated3 = pd.concat([ baby_runtime,baby_sum_discounted, \n",
    "                           tiger_runtime,tiger_sum_discounted], axis=1)\n",
    "y = [('Crying Baby','Runtime'), ('Crying Baby','Reward'), \n",
    "     ('Tiger','Runtime'), ('Tiger','Reward')]\n",
    "concatenated3.columns = pd.MultiIndex.from_tuples(y)\n",
    "concatenated3.style.format('{:.4f}').apply(\n",
    "    lambda col: ['font-weight:bold' if (\n",
    "         (x==col.min()and col.name in [('Crying Baby','Runtime'),('Tiger','Runtime')]) or\n",
    "         (x==col.max() and col.name in [ ('Crying Baby','Reward'), ('Tiger','Reward')])) else ''\n",
    "                 for x in col])"
   ]
  }
 ],
 "metadata": {
  "kernelspec": {
   "display_name": "Python 3.7.6 64-bit",
   "language": "python",
   "name": "python3"
  },
  "language_info": {
   "codemirror_mode": {
    "name": "ipython",
    "version": 3
   },
   "file_extension": ".py",
   "mimetype": "text/x-python",
   "name": "python",
   "nbconvert_exporter": "python",
   "pygments_lexer": "ipython3",
   "version": "3.7.6"
  },
  "orig_nbformat": 4,
  "vscode": {
   "interpreter": {
    "hash": "12ead14085ee944fa78033d0b2fe0694b86af6c859d85943081f913fc60ad260"
   }
  }
 },
 "nbformat": 4,
 "nbformat_minor": 2
}
